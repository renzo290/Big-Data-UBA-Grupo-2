{
 "cells": [
  {
   "cell_type": "markdown",
   "metadata": {
    "collapsed": true,
    "id": "Dh8MkXaG-c9Y",
    "jupyter": {
     "outputs_hidden": true
    }
   },
   "source": [
    "# Big Data (UBA) -  2024\n",
    "\n",
    "## Trabajo Práctico 1 "
   ]
  },
  {
   "cell_type": "markdown",
   "metadata": {
    "id": "RhBlm6mZ-c9e"
   },
   "source": [
    "### Reglas de formato y presentación\n",
    "- El trabajo debe estar debidamente documentado comentado (utilizando #) para que tanto los docentes como sus compañeros puedan comprender el código fácilmente.\n",
    "\n",
    "- El mismo debe ser completado en este Jupyter Notebook y entregado como tal, es decir en un archivo .ipynb\n"
   ]
  },
  {
   "cell_type": "markdown",
   "metadata": {
    "id": "ZEjGaa4U-c9g"
   },
   "source": [
    "### Fecha de entrega:\n",
    "Viernes 25 de octubre a las 13:00 hs"
   ]
  },
  {
   "cell_type": "markdown",
   "metadata": {
    "id": "N9TU2y7E-c9h"
   },
   "source": [
    "### Modalidad de entrega\n",
    "- Al finalizar el trabajo práctico deben hacer un último <i>commit</i> en su repositorio de GitHub llamado “Entrega final del tp”. \n",
    "- Asegurense de haber creado una carpeta llamada TP1. Este Jupyter Notebook y el correspondiente al TP1 deben estar dentro de esa carpeta.\n",
    "- También deben enviar el link de su repositorio -para que pueda ser clonado y corregido- a mi correo m.n.romero91@gmail.com\n",
    "- La última versión en el repositorio es la que será evaluada. Por lo que es importante que: \n",
    "    - No envien el correo hasta no haber terminado y estar seguros de que han hecho el <i>commit y push</i> a la versión final que quieren entregar. Debido a que se pueden tomar hasta 3 días de extensión a lo largo del curso, no se corregirán sus tareas hasta no recibir el correo.\n",
    "    - No hagan nuevos <i>push</i> despues de haber entregado su versión final. Esto generaría confusión acerca de que versión es la que quieren que se les corrija. "
   ]
  },
  {
   "cell_type": "markdown",
   "metadata": {},
   "source": [
    "### Parte A"
   ]
  },
  {
   "cell_type": "markdown",
   "metadata": {
    "id": "ZXbrPraa-c9i"
   },
   "source": [
    "#### Ejercicio 1\n",
    "Usando la API de Mercado Libre, obtener los ítems de una consulta de búsqueda. Pueden buscar cualquier producto de su interés."
   ]
  },
  {
   "cell_type": "code",
   "execution_count": 17,
   "metadata": {},
   "outputs": [
    {
     "name": "stdout",
     "output_type": "stream",
     "text": [
      "<Response [200]>\n"
     ]
    }
   ],
   "source": [
    "# Importamos los módulos necesarios\n",
    "import requests\n",
    "import pandas as pd\n",
    "import openpyxl\n",
    "import matplotlib.pyplot as plt\n",
    "import matplotlib.ticker as ticker\n",
    "\n",
    "#Configuramos la búsqueda\n",
    "buscar = \"sommier king\"\n",
    "url = \"https://api.mercadolibre.com/sites/{}/search?q={}\".format(\"MLA\", buscar.replace(\" \", \"%20\"))\n",
    "\n",
    "\n",
    "# Se hace el get a la API (pedido) y se recibe una respuesta (response)\n",
    "response = requests.request(\"GET\", url)\n",
    "print(response) # correcto"
   ]
  },
  {
   "cell_type": "markdown",
   "metadata": {},
   "source": [
    "#### Ejercicio 2\n",
    "Guarden los precios de los ítems obtenidos en un dataframe y calculen el precio promedio, el mínimo y el máximo. "
   ]
  },
  {
   "cell_type": "code",
   "execution_count": 18,
   "metadata": {},
   "outputs": [
    {
     "name": "stdout",
     "output_type": "stream",
     "text": [
      "                                               title condition  \\\n",
      "0  Colchon Espuma Alta Densidad Elite King 2,00 X...       new   \n",
      "1  Colchon Resortes King Size Doble Pillow Top 2 ...       new   \n",
      "2  Colchon King Size Espuma Alta Densidad 2 X 180...       new   \n",
      "3  Colchón Y Sommier Espuma Alta Densidad 200x200...       new   \n",
      "4  Colchon King Size Espuma Alta Densidad 2 X 2 D...       new   \n",
      "\n",
      "                                           permalink      price  \\\n",
      "0  https://www.mercadolibre.com.ar/colchon-espuma...  344719.00   \n",
      "1  https://articulo.mercadolibre.com.ar/MLA-61952...  481009.00   \n",
      "2  https://www.mercadolibre.com.ar/colchon-king-s...  399349.00   \n",
      "3  https://articulo.mercadolibre.com.ar/MLA-91197...  688629.89   \n",
      "4  https://articulo.mercadolibre.com.ar/MLA-61951...  522159.00   \n",
      "\n",
      "   original_price  \n",
      "0        491579.0  \n",
      "1        685929.0  \n",
      "2        569479.0  \n",
      "3        983757.0  \n",
      "4       1167149.0  \n",
      "                                               title condition  \\\n",
      "0  Colchon Espuma Alta Densidad Elite King 2,00 X...       new   \n",
      "1  Colchon Resortes King Size Doble Pillow Top 2 ...       new   \n",
      "2  Colchon King Size Espuma Alta Densidad 2 X 180...       new   \n",
      "3  Colchón Y Sommier Espuma Alta Densidad 200x200...       new   \n",
      "4  Colchon King Size Espuma Alta Densidad 2 X 2 D...       new   \n",
      "5  Colchon Y Sommier Espuma Alta Densidad 200x200...       new   \n",
      "6  Colchon Espuma Alta Densidad Elite King 2,00 X...       new   \n",
      "7  Sommier Resortes Individuales Pillow Top Intel...       new   \n",
      "8  Sommier Superior Rest Ultra Plush Super King 2...       new   \n",
      "9  Sommier Resortes Individuales Pillow Top Intel...       new   \n",
      "\n",
      "                                           permalink       price  \\\n",
      "0  https://www.mercadolibre.com.ar/colchon-espuma...   344719.00   \n",
      "1  https://articulo.mercadolibre.com.ar/MLA-61952...   481009.00   \n",
      "2  https://www.mercadolibre.com.ar/colchon-king-s...   399349.00   \n",
      "3  https://articulo.mercadolibre.com.ar/MLA-91197...   688629.89   \n",
      "4  https://articulo.mercadolibre.com.ar/MLA-61951...   522159.00   \n",
      "5  https://articulo.mercadolibre.com.ar/MLA-91192...   911594.60   \n",
      "6  https://www.mercadolibre.com.ar/colchon-espuma...   344719.00   \n",
      "7  https://articulo.mercadolibre.com.ar/MLA-11136...   799763.30   \n",
      "8  https://articulo.mercadolibre.com.ar/MLA-14323...  1382854.00   \n",
      "9  https://articulo.mercadolibre.com.ar/MLA-11135...   894509.00   \n",
      "\n",
      "   original_price  \n",
      "0        491579.0  \n",
      "1        685929.0  \n",
      "2        569479.0  \n",
      "3        983757.0  \n",
      "4       1167149.0  \n",
      "5       1302278.0  \n",
      "6        491579.0  \n",
      "7       1142519.0  \n",
      "8       1382854.0  \n",
      "9       1277870.0  \n"
     ]
    }
   ],
   "source": [
    "# Se convierte la respuesta obtenida en JSON\n",
    "data = response.json() \n",
    "data\n",
    "\n",
    "# Se extraen los productos que están en el 'results'\n",
    "productos = data['results']\n",
    "\n",
    "# Se crea un DataFrame seleccionando sólo algunos elementos de la respuesta\n",
    "df = pd.DataFrame(productos)[['title', 'condition', 'permalink', 'price', 'original_price']]\n",
    "\n",
    "# Mostramos las primeras filas del DataFrame\n",
    "print(df.head())\n",
    "print(df.head(10))"
   ]
  },
  {
   "cell_type": "code",
   "execution_count": 19,
   "metadata": {},
   "outputs": [
    {
     "name": "stdout",
     "output_type": "stream",
     "text": [
      "Precio promedio: 895750.1403333334\n",
      "Precio mínimo: 344719.0\n",
      "Precio máximo: 1915675.0\n"
     ]
    }
   ],
   "source": [
    "# Se calcula el precio promedio, el mínimo y el máximo\n",
    "\n",
    "# Precio promedio\n",
    "precio_promedio = df['price'].mean()\n",
    "\n",
    "# Precio mínimo\n",
    "precio_minimo = df['price'].min()\n",
    "\n",
    "# Precio máximo\n",
    "precio_maximo = df['price'].max()\n",
    "\n",
    "\n",
    "# Imprimimos los resultados\n",
    "print(f\"Precio promedio: {precio_promedio}\")\n",
    "print(f\"Precio mínimo: {precio_minimo}\")\n",
    "print(f\"Precio máximo: {precio_maximo}\")"
   ]
  },
  {
   "cell_type": "code",
   "execution_count": 20,
   "metadata": {},
   "outputs": [
    {
     "name": "stdout",
     "output_type": "stream",
     "text": [
      "title                Colchon King Size Espuma Alta Densidad 2 X 2 D...\n",
      "condition                                                          new\n",
      "permalink            https://articulo.mercadolibre.com.ar/MLA-61951...\n",
      "price                                                         522159.0\n",
      "original_price                                               1167149.0\n",
      "diferencia_precio                                             644990.0\n",
      "Name: 4, dtype: object\n"
     ]
    }
   ],
   "source": [
    "# Sumamos también el producto con una mayor diferencia entre precio original y precio actual\n",
    "\n",
    "# En primer lugar creamos la columna necesaria de diferencia_precio \n",
    "df['diferencia_precio'] = df['original_price'] - df['price']\n",
    "\n",
    "# Encontrar el producto con la mayor diferencia\n",
    "producto_mayor_diferencia = df.loc[df['diferencia_precio'].idxmax()]\n",
    "\n",
    "# Imprimimos el producto con la mayor diferencia de precio\n",
    "print(producto_mayor_diferencia)\n"
   ]
  },
  {
   "cell_type": "markdown",
   "metadata": {},
   "source": [
    "#### Ejercicio 3\n",
    "Armen un histograma de los precios. ¿Ven algún <i>outlier<i>? \n",
    "Nota: pueden usar la librería de Matplotlib o la de Pandas."
   ]
  },
  {
   "cell_type": "code",
   "execution_count": 23,
   "metadata": {},
   "outputs": [
    {
     "data": {
      "image/png": "[encoded data removed]",
      "text/plain": [
       "<Figure size 640x480 with 1 Axes>"
      ]
     },
     "metadata": {},
     "output_type": "display_data"
    }
   ],
   "source": [
    "# Creamos un histograma con los precios\n",
    "\n",
    "# Crear el histograma de la columna 'precio'\n",
    "ax = df['price'].hist(bins=10)\n",
    "\n",
    "# Personalizar el eje X para mostrar los valores en miles\n",
    "ax.xaxis.set_major_formatter(ticker.FuncFormatter(lambda x, pos: '{:,.0f}'.format(x / 1000) + 'K'))\n",
    "ax.grid(False)\n",
    "\n",
    "# Agregar etiquetas y título\n",
    "plt.xlabel('Precio (en miles)')\n",
    "plt.ylabel('Frecuencia')\n",
    "plt.title('Histograma de Precios')\n",
    "\n",
    "# Mostrar el gráfico\n",
    "plt.show()\n"
   ]
  },
  {
   "cell_type": "markdown",
   "metadata": {},
   "source": [
    "#### Ejercicio 4\n",
    "Realicen alguna consulta adicional utilizando la API de Mercado Libre (debe ser alguna consulta que no se haya visto en clase. Por ejemplo, obtener los ítems de un vendedor en particular, obtener los productos de una categoría u otros). Analicen los resultados y comenten uno o dos que les parezcan interesantes (por ejemplo, precios promedio de los productos de un vendedor, diferencia entre el precio original y actual, si acepta mercado pago para la compra de productos, etc.) "
   ]
  },
  {
   "cell_type": "code",
   "execution_count": null,
   "metadata": {},
   "outputs": [],
   "source": [
    "# Resolver acá\n"
   ]
  },
  {
   "cell_type": "markdown",
   "metadata": {},
   "source": [
    "### Parte B"
   ]
  },
  {
   "cell_type": "markdown",
   "metadata": {},
   "source": [
    "#### Ejercicio 5\n",
    "De la página de noticias del [diario La Nación](https://www.lanacion.com.ar/), utilicen herramientas de web scraping para obtener los links de las noticias de la portada. Guarden los links obtenidos en un dataframe y expórtenlo a un archivo de excel.\n",
    "\n",
    "Nota 1: es posible que logren obtener los links a las noticias sin el dominio: \"https://www.lanacion.com.ar/\". De ser así, concatenen el dominio a la ruta del link obtenido, tal que se obtenga un link al que se pueda acceder. Es decir, que las cadenas de caracteres finales tendrán la forma: https://www.lanacion.com.ar/*texto_obtenido*)\n",
    "\n",
    "Nota 2: junto con su entrega, adjunten una captura de la página de noticias al momento de correr su código. Eso servirá al momento de la corrección para verificar que los links obtenidos hacen referencia a las noticias de ese día y hora."
   ]
  },
  {
   "cell_type": "code",
   "execution_count": null,
   "metadata": {},
   "outputs": [],
   "source": [
    "# Resolver acá\n"
   ]
  }
 ],
 "metadata": {
  "anaconda-cloud": {},
  "colab": {
   "name": "TP1 - Parte 1.ipynb",
   "provenance": []
  },
  "kernelspec": {
   "display_name": "Python 3",
   "language": "python",
   "name": "python3"
  },
  "language_info": {
   "codemirror_mode": {
    "name": "ipython",
    "version": 3
   },
   "file_extension": ".py",
   "mimetype": "text/x-python",
   "name": "python",
   "nbconvert_exporter": "python",
   "pygments_lexer": "ipython3",
   "version": "3.12.3"
  }
 },
 "nbformat": 4,
 "nbformat_minor": 4
}
