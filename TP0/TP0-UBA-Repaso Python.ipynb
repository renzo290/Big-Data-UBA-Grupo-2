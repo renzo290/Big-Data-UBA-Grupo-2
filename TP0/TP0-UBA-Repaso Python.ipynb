{
 "cells": [
  {
   "cell_type": "markdown",
   "metadata": {
    "collapsed": true,
    "id": "Dh8MkXaG-c9Y",
    "jupyter": {
     "outputs_hidden": true
    }
   },
   "source": [
    "# Big Data (UBA) - 2024\n",
    "\n",
    "## Trabajo Práctico 0 - Repaso de Programación en Python\n"
   ]
  },
  {
   "cell_type": "markdown",
   "metadata": {
    "id": "RhBlm6mZ-c9e"
   },
   "source": [
    "### Reglas de formato y presentación\n",
    "- El trabajo debe estar debidamente documentado comentado (utilizando #) para que tanto los docentes como sus compañeros puedan comprender el código fácilmente.\n",
    "\n",
    "- El mismo debe ser completado en este Jupyter Notebook y entregado como tal, es decir en un archivo .ipynb\n"
   ]
  },
  {
   "cell_type": "markdown",
   "metadata": {
    "id": "ZEjGaa4U-c9g"
   },
   "source": [
    "### Fecha de entrega:\n",
    "Viernes 11 de Octubre a las 13:00 hs"
   ]
  },
  {
   "cell_type": "markdown",
   "metadata": {
    "id": "N9TU2y7E-c9h"
   },
   "source": [
    "### Modalidad de entrega\n",
    "- Al finalizar el trabajo práctico deben hacer un último <i>commit</i> en su repositorio de GitHub llamado “Entrega final del tp”. \n",
    "- Asegurense de haber creado una carpeta llamada TP0. Este Jupyter Notebook y el correspondiente al TP0 deben estar dentro de esa carpeta.\n",
    "- También deben enviar el link de su repositorio -para que pueda ser clonado y corregido- por correo a m.n.romero91@gmail.com\n",
    "- La última versión en el repositorio es la que será evaluada. Por lo que es importante que: \n",
    "    - No envien el correo hasta no haber terminado y estar seguros de que han hecho el <i>commit y push</i> a la versión final que quieren entregar. Debido a que se pueden tomar hasta 3 días de extensión a lo largo del curso, no se corregirán sus tareas hasta no recibir el correo.\n",
    "    - No hagan nuevos <i>push</i> despues de haber entregado su versión final. Esto generaría confusión acerca de que versión es la que quieren que se les corrija. "
   ]
  },
  {
   "cell_type": "markdown",
   "metadata": {
    "id": "ZXbrPraa-c9i"
   },
   "source": [
    "#### Ejercicio 1\n",
    "Este ejercicio simplemente busca repasar lo que aprendimos sobre definición de variables. Definir dos variables con un nombre combinado (al menos dos palabras), una que se pueda crear y otra que tenga un nombre inaceptable (genera error). Explicar por qué ocurre el error."
   ]
  },
  {
   "cell_type": "code",
   "execution_count": 17,
   "metadata": {
    "id": "mb7PkXfN-c9j"
   },
   "outputs": [
    {
     "ename": "SyntaxError",
     "evalue": "invalid decimal literal (1742286256.py, line 10)",
     "output_type": "error",
     "traceback": [
      "\u001b[1;36m  Cell \u001b[1;32mIn[17], line 10\u001b[1;36m\u001b[0m\n\u001b[1;33m    1variable_2 = 10\u001b[0m\n\u001b[1;37m    ^\u001b[0m\n\u001b[1;31mSyntaxError\u001b[0m\u001b[1;31m:\u001b[0m invalid decimal literal\n"
     ]
    }
   ],
   "source": [
    "# Caso A\n",
    "# Defino una variable con un nombre combinado de dos palabras\n",
    "\n",
    "variable_1 = 5\n",
    "print(variable_1)\n",
    "\n",
    "# Caso B (acá debería saltar un error)\n",
    "#Al definir la variable \"1variable_2\" sale un error porque el nombre de las variables no pueden iniciar con un caracter numérico\n",
    "\n",
    "1variable_2 = 10\n",
    "print(1variable_2)"
   ]
  },
  {
   "cell_type": "markdown",
   "metadata": {},
   "source": [
    "#### Ejercicio 2\n",
    "Importar módulos. Usando el módulo math impriman la tangente de 1. ¿Cuál es el resultado?\n",
    "Hagan este cálculo de dos formas: primero importando el módulo math y usando la función correspondiente y luego solo importando la función específica que precisan para el cálculo."
   ]
  },
  {
   "cell_type": "code",
   "execution_count": 15,
   "metadata": {},
   "outputs": [
    {
     "name": "stdout",
     "output_type": "stream",
     "text": [
      "El resultado es 1.5574077246549023\n"
     ]
    }
   ],
   "source": [
    "# Caso A\n",
    "#Se importa el módulo \"math\" y se calcula la tangente de 1\n",
    "\n",
    "import math\n",
    "tangente_1 = math.tan(1)\n",
    "print(\"El resultado es\", tangente_1)\n"
   ]
  },
  {
   "cell_type": "code",
   "execution_count": 1,
   "metadata": {},
   "outputs": [
    {
     "name": "stdout",
     "output_type": "stream",
     "text": [
      "El resultado es 1.5574077246549023\n"
     ]
    }
   ],
   "source": [
    "# Caso B\n",
    "#Se realiza el cálculo sólo importando la función \"tan\" del módulo \"math\"\n",
    "\n",
    "from math import tan\n",
    "tangente_1 = tan(1)\n",
    "print(\"El resultado es\", tangente_1)\n"
   ]
  },
  {
   "cell_type": "markdown",
   "metadata": {
    "id": "GlNh0fyv-c9l"
   },
   "source": [
    "#### Ejercicio 3 \n",
    "Este ejercicio trata sobre lograr el intercambio de valores entre dos variables utilizando una variable temporal para hacerlo. Las variables temporales y la sustitución de valores termina siendo útil en algunos loops. Los pasos a seguir son: (a) definir variables A y B (cuyos valores buscaremos invertir); (b) definir una variable temporal que resguarde el valor de B; (c) sustitución (asignar B igual a A y también A igual al valor original de B); (d) imprimir valores para verificar."
   ]
  },
  {
   "cell_type": "code",
   "execution_count": 23,
   "metadata": {
    "id": "uWalSYFC-c9m"
   },
   "outputs": [
    {
     "name": "stdout",
     "output_type": "stream",
     "text": [
      "1\n",
      "1\n",
      "2\n"
     ]
    }
   ],
   "source": [
    "# a) Definir variables A y B, \n",
    "\n",
    "a = 1\n",
    "b = 2\n",
    "\n",
    "# b) Definir variable temporal \"tmp\" igual a B (la variable, no el valor)\n",
    "\n",
    "temp = b\n",
    "\n",
    "# c) Ahora sustituir variables: variable B igual a variable A (la variable, no el\n",
    "# valor) y viceversa.\n",
    "\n",
    "b = a\n",
    "a = b\n",
    "\n",
    "# d) Verifiquemos resultados: imprimir variables A y B\n",
    "\n",
    "print(b)\n",
    "print(a)\n",
    "print(temp) #La variable temp mantuvo el valor original de la variable b (2), mientras que la variable b ahora tiene el valor de 1, ya que la definimos como igual a la variabla a cuyo valor es 1"
   ]
  },
  {
   "cell_type": "markdown",
   "metadata": {
    "id": "wXhAaRyN-c9p"
   },
   "source": [
    "#### Ejercicio 4\n",
    "En este ejercicio se busca poner en práctica el uso de range() en un for loop. \n",
    "\n",
    "Construir un for loop usando un range(). El range debe ser entre los valores que quieran (con una diferencia mínima de 15 entre start y stop), en incrementos de 3 unidades. Dentro del loop, implementar una sentencia condicional que imprima una leyenda indicando si el input es par o impar."
   ]
  },
  {
   "cell_type": "code",
   "execution_count": 38,
   "metadata": {
    "id": "_oE5sG0c-c9q"
   },
   "outputs": [
    {
     "name": "stdout",
     "output_type": "stream",
     "text": [
      "1 es un número impar\n",
      "4 es un número par\n",
      "7 es un número impar\n",
      "10 es un número par\n",
      "13 es un número impar\n",
      "16 es un número par\n",
      "19 es un número impar\n",
      "22 es un número par\n",
      "25 es un número impar\n",
      "28 es un número par\n"
     ]
    }
   ],
   "source": [
    "#Se crea un bucle for con la función range, que nos permite trabajar con un intervalo de números\n",
    "#En este caso el bucle recorre los números desde el 1 al 30, saltando de 3 en 3, y define si son pares o impares\n",
    "for i in range(1, 30, 3):\n",
    "    if i % 2 == 0:\n",
    "        print(f\"{i} es un número par\")\n",
    "    else: print(f\"{i} es un número impar\")"
   ]
  },
  {
   "cell_type": "markdown",
   "metadata": {
    "id": "h3g5bXUB-c9u"
   },
   "source": [
    "#### Ejercicio 5\n",
    "Para practicar el uso de condiciones lógicas y la definición de funciones, construir una función con una sentencia condicional que verifique si un año es bisiesto o no. Para que un año sea bisiesto debe cumplir una de dos condiciones:\n",
    "\n",
    "(a) que sea divisible por 400; o\n",
    "\n",
    "(b) que sea divisible por 4 y no sea divisible por 100\n",
    "\n",
    "Notar que son dos condiciones, donde la segunda condición tiene dos componentes. Prueben la función con 3 valores para verificar que funcione."
   ]
  },
  {
   "cell_type": "code",
   "execution_count": 3,
   "metadata": {
    "id": "7_MnILdz-c9v"
   },
   "outputs": [
    {
     "name": "stdout",
     "output_type": "stream",
     "text": [
      "El año 2020 es bisiesto.\n",
      "El año 1900 no es bisiesto.\n",
      "El año 2000 es bisiesto.\n"
     ]
    }
   ],
   "source": [
    "def es_bisiesto(anio):\n",
    "    # Condición (a): divisible por 400\n",
    "    if anio % 400 == 0:\n",
    "        return f\"El año {anio} es bisiesto.\"\n",
    "    # Condición (b): divisible por 4 y no divisible por 100\n",
    "    elif anio % 4 == 0 and anio % 100 != 0:\n",
    "        return f\"El año {anio} es bisiesto.\"\n",
    "    else:\n",
    "        return f\"El año {anio} no es bisiesto.\"\n",
    "\n",
    "# Pruebas de la función con 3 valores\n",
    "print(es_bisiesto(2020))  # El año 2020 es bisiesto\n",
    "print(es_bisiesto(1900))  # El año 1900 no es bisiesto\n",
    "print(es_bisiesto(2000))  # El año 2000 es bisiesto"
   ]
  },
  {
   "cell_type": "markdown",
   "metadata": {
    "collapsed": true,
    "id": "P3a7bJkd-c9w",
    "jupyter": {
     "outputs_hidden": true
    }
   },
   "source": [
    "#### Ejercicio 6 \n",
    "Pongamos en práctica identificar el type() de cada variable. A continuación tenemos una lista con elementos de diferentes tipos. Construyan un for loop que itere sobre la lista e imprima un cartel indicando el tipo de dato u objeto que hay en cada caso."
   ]
  },
  {
   "cell_type": "code",
   "execution_count": null,
   "metadata": {
    "id": "jDf4d_Wr-c9w"
   },
   "outputs": [],
   "source": [
    "mi_lista = [10, 34.5, 99999, 'abc', [1,2,3], ('ARG', 1810), {'pob': 45}, True]"
   ]
  },
  {
   "cell_type": "code",
   "execution_count": 2,
   "metadata": {
    "id": "SAJgEiNEFQAS"
   },
   "outputs": [
    {
     "name": "stdout",
     "output_type": "stream",
     "text": [
      "El elemento '10' es de tipo <class 'int'>.\n",
      "El elemento '34.5' es de tipo <class 'float'>.\n",
      "El elemento '99999' es de tipo <class 'int'>.\n",
      "El elemento 'abc' es de tipo <class 'str'>.\n",
      "El elemento '[1, 2, 3]' es de tipo <class 'list'>.\n",
      "El elemento '('ARG', 1810)' es de tipo <class 'tuple'>.\n",
      "El elemento '{'pob': 45}' es de tipo <class 'dict'>.\n",
      "El elemento 'True' es de tipo <class 'bool'>.\n"
     ]
    }
   ],
   "source": [
    "mi_lista = [10, 34.5, 99999, 'abc', [1,2,3], ('ARG', 1810), {'pob': 45}, True]\n",
    "\n",
    "# Iteramos sobre cada elemento de la lista\n",
    "for elemento in mi_lista:\n",
    "    # Imprimimos un cartel indicando el tipo de dato\n",
    "    print(f\"El elemento '{elemento}' es de tipo {type(elemento)}.\")"
   ]
  },
  {
   "cell_type": "markdown",
   "metadata": {
    "id": "y1lncitl-c9x"
   },
   "source": [
    "#### Ejercicio 7\n",
    "Ahora definan ustedes una nueva lista, en la que los primeros cuatro elementos sean palabras (strings), el quinto elemento no sea string, y el sexto sea string. Construyan un for loop que corra por la lista y que imprima la palabra y la longitud de la misma. Que el loop contenga una sentencia condicional que imprima un cartel \"Elemento no es un string: < el elemento > | < class del elemento >\" para los casos dónde el elemento evaluado no sea string."
   ]
  },
  {
   "cell_type": "code",
   "execution_count": 1,
   "metadata": {
    "id": "bFOk9Os0-c9x"
   },
   "outputs": [
    {
     "name": "stdout",
     "output_type": "stream",
     "text": [
      "Palabra: 'viva' | Longitud: 4\n",
      "Palabra: 'la' | Longitud: 2\n",
      "Palabra: 'universidad' | Longitud: 11\n",
      "Palabra: 'publica' | Longitud: 7\n",
      "Elemento no es un string: '2024' | Tipo: <class 'int'>\n",
      "Palabra: 'forever' | Longitud: 7\n"
     ]
    }
   ],
   "source": [
    "# Definir la lista\n",
    "mi_lista = ['viva', 'la', 'universidad', 'publica', 2024, 'forever']\n",
    "\n",
    "# Iterar sobre la lista\n",
    "for elemento in mi_lista:\n",
    "    # Condición para verificar si el elemento es un string\n",
    "    if isinstance(elemento, str):\n",
    "        print(f\"Palabra: '{elemento}' | Longitud: {len(elemento)}\")\n",
    "    else:\n",
    "        print(f\"Elemento no es un string: '{elemento}' | Tipo: {type(elemento)}\")"
   ]
  },
  {
   "cell_type": "markdown",
   "metadata": {},
   "source": [
    "#### Ejercicio 8"
   ]
  },
  {
   "cell_type": "markdown",
   "metadata": {},
   "source": [
    "Construyan una función llamada 'suma' que tome una cantidad variable de parámetros y devuelva el resultado de la suma."
   ]
  },
  {
   "cell_type": "code",
   "execution_count": 5,
   "metadata": {},
   "outputs": [
    {
     "name": "stdout",
     "output_type": "stream",
     "text": [
      "24\n",
      "6.2219999999999995\n"
     ]
    }
   ],
   "source": [
    "def suma(*args):\n",
    "    return sum(args)\n",
    "\n",
    "\n",
    "print(suma(1, 5, 6, 12))\n",
    "print(suma(2.222, 3, 1))"
   ]
  },
  {
   "cell_type": "markdown",
   "metadata": {
    "id": "PUpxDz72-c9x"
   },
   "source": [
    "#### Ejercicio 9\n",
    "Argentina tiene una representación legislativa proporcional en la cual la cantidad de diputados se debería ajustar según el tamaño de población de cada provincia. Otra característica de la representación legislativa del país es que hay una cantidad mínima de diputados por provincia (5). Esto genera un desbalance en la cantidad de ciudadanos por cada representante en el Congreso entre provincias.\n",
    "\n",
    "A continuación preparamos algunos ejemplos, dividiendo la población de cada provincia (según estimación para el 2022) por la cantidad de representantes en el Congreso para esa misma jurisdicción. También armamos el equivalente para el total país y una lista con los valores provinciales.\n",
    "\n",
    "En este ejercicio les pedimos que construyan un for loop que itere sobre el diccionario definido y compare cada valor provincial contra el valor de proporcionalidad directa (la variable argentina). El loop debe imprimir una leyenda que indique si la provincia está sobrerepresentada, subrepresentada o con representación proporcional. Además, queremos que el mismo loop compare los valores de las provincias sobrerepresentadas y que guarde el valor de la provincia con mayor sobrerepresentación. Luego del loop impriman este valor así podemos ver que haya funcionado.\n",
    "\n",
    "Fuente para población: https://es.wikipedia.org/wiki/Demograf%C3%ADa_de_Argentina\n",
    "\n",
    "Fuente para representantes: https://es.wikipedia.org/wiki/C%C3%A1mara_de_Diputados_de_la_Naci%C3%B3n_Argentina"
   ]
  },
  {
   "cell_type": "code",
   "execution_count": 8,
   "metadata": {
    "id": "hd8Z5AHs-c9y"
   },
   "outputs": [
    {
     "name": "stdout",
     "output_type": "stream",
     "text": [
      "Córdoba subrepresentada\n",
      "Santa Fe subrepresentada\n",
      "Mendoza subrepresentada\n",
      "Buenos Aires subrepresentada\n",
      "Entre Ríos sobrerepresentada\n",
      "Santa Cruz sobrerepresentada\n",
      "Santa Cruz es la más sobrerepresentada\n",
      "Formosa sobrerepresentada\n"
     ]
    }
   ],
   "source": [
    "# Valor de referencia: proporcionalidad\n",
    "argentina = 46044703 / 257\n",
    "\n",
    "# Creamos variables para una selección de jurisdicciones\n",
    "cordoba = 3978984 / 18\n",
    "santa_fe = 3556522 / 19\n",
    "mendoza = 2014533 / 10\n",
    "buenos_aires = 17569053 / 70\n",
    "entre_rios =  1426426 / 9\n",
    "santa_cruz = 333473 / 5\n",
    "formosa = 606041 / 5\n",
    "\n",
    "# Definimos el diccionario para iterar\n",
    "dict_provincias = {\n",
    "    \"Córdoba\": cordoba,\n",
    "    \"Santa Fe\": santa_fe,\n",
    "    \"Mendoza\": mendoza,\n",
    "    \"Buenos Aires\": buenos_aires,\n",
    "    \"Entre Ríos\": entre_rios,\n",
    "    \"Santa Cruz\": santa_cruz,\n",
    "    \"Formosa\": formosa\n",
    "}\n",
    "\n",
    "menor_cant = min(dict_provincias.values())\n",
    "\n",
    "for provincias, cant in dict_provincias.items():\n",
    "    if cant < argentina:\n",
    "        print(f\"{provincias} sobrerepresentada\")\n",
    "        if cant == menor_cant:\n",
    "            print(f\"{provincias} es la más sobrerepresentada\")\n",
    "    elif cant > argentina:\n",
    "        print(f\"{provincias} subrepresentada\")\n",
    "    else:\n",
    "        print(f\"{provincias} proporcional\")"
   ]
  },
  {
   "cell_type": "code",
   "execution_count": null,
   "metadata": {
    "id": "fsEHnxiY-c9y",
    "scrolled": true
   },
   "outputs": [],
   "source": [
    "# Resolver acá\n"
   ]
  },
  {
   "cell_type": "markdown",
   "metadata": {
    "id": "GokZe5tV-c9z"
   },
   "source": [
    "#### Ejercicio 10\n",
    "Si buscáramos minimizar la subrepresentación de la provincia de Buenos Aires, ¿cuántos representantes debería tener según el Censo 2022? Usemos el mismo criterio de sub/sobrerepresentacion que en el ejercicio anterior: población sobre cantidad de representantes.\n",
    "\n",
    "Para responder esta pregunta construyan un while loop que incremente de a uno la cantidad de representantes de la Provincia hasta minimizar la subrepresentación. En cada iteración impriman un cartel que diga: \"Se agregó un representante, el total ahora es X\" dónde X es el número de representantes simulado."
   ]
  },
  {
   "cell_type": "code",
   "execution_count": 13,
   "metadata": {
    "id": "x9DvuXa_-c9z"
   },
   "outputs": [
    {
     "name": "stdout",
     "output_type": "stream",
     "text": [
      "Se agregó un representante, el total ahora es 71\n",
      "Se agregó un representante, el total ahora es 72\n",
      "Se agregó un representante, el total ahora es 73\n",
      "Se agregó un representante, el total ahora es 74\n",
      "Se agregó un representante, el total ahora es 75\n",
      "Se agregó un representante, el total ahora es 76\n",
      "Se agregó un representante, el total ahora es 77\n",
      "Se agregó un representante, el total ahora es 78\n",
      "Se agregó un representante, el total ahora es 79\n",
      "Se agregó un representante, el total ahora es 80\n",
      "Se agregó un representante, el total ahora es 81\n",
      "Se agregó un representante, el total ahora es 82\n",
      "Se agregó un representante, el total ahora es 83\n",
      "Se agregó un representante, el total ahora es 84\n",
      "Se agregó un representante, el total ahora es 85\n",
      "Se agregó un representante, el total ahora es 86\n",
      "Se agregó un representante, el total ahora es 87\n",
      "Se agregó un representante, el total ahora es 88\n",
      "Se agregó un representante, el total ahora es 89\n",
      "Se agregó un representante, el total ahora es 90\n",
      "Se agregó un representante, el total ahora es 91\n",
      "Se agregó un representante, el total ahora es 92\n",
      "Se agregó un representante, el total ahora es 93\n",
      "Se agregó un representante, el total ahora es 94\n",
      "Se agregó un representante, el total ahora es 95\n",
      "Se agregó un representante, el total ahora es 96\n",
      "Se agregó un representante, el total ahora es 97\n",
      "Se agregó un representante, el total ahora es 98\n",
      "Se agregó un representante, el total ahora es 99\n",
      "Buenos Aires debería tener 99 representantes\n"
     ]
    }
   ],
   "source": [
    "# Estos son los valores de la provincia\n",
    "representantes_pba = 70\n",
    "poblacion2010_pba = 17594428\n",
    "\n",
    "\n",
    "# Y el valor de referencia nacional\n",
    "argentina = 46044703 / 257\n",
    "\n",
    "\n",
    "# Usamos poblacion2010_pba aunque diga Censo 2022 en la consigna\n",
    "\n",
    "while (poblacion2010_pba / representantes_pba) > argentina:\n",
    "    representantes_pba += 1\n",
    "    print(f\"Se agregó un representante, el total ahora es {representantes_pba}\")\n",
    "\n",
    "print(f\"Buenos Aires debería tener {representantes_pba} representantes\")\n"
   ]
  },
  {
   "cell_type": "code",
   "execution_count": null,
   "metadata": {},
   "outputs": [],
   "source": [
    "# Resolver acá\n"
   ]
  }
 ],
 "metadata": {
  "anaconda-cloud": {},
  "colab": {
   "name": "TP1 - Parte 1.ipynb",
   "provenance": []
  },
  "kernelspec": {
   "display_name": "Python 3",
   "language": "python",
   "name": "python3"
  },
  "language_info": {
   "codemirror_mode": {
    "name": "ipython",
    "version": 3
   },
   "file_extension": ".py",
   "mimetype": "text/x-python",
   "name": "python",
   "nbconvert_exporter": "python",
   "pygments_lexer": "ipython3",
   "version": "3.12.3"
  }
 },
 "nbformat": 4,
 "nbformat_minor": 4
}
