{
 "cells": [
  {
   "cell_type": "markdown",
   "metadata": {
    "collapsed": true,
    "id": "Dh8MkXaG-c9Y",
    "jupyter": {
     "outputs_hidden": true
    }
   },
   "source": [
    "# Big Data (UBA) -  2024\n",
    "\n",
    "## Trabajo Práctico 3 "
   ]
  },
  {
   "cell_type": "markdown",
   "metadata": {
    "id": "N9TU2y7E-c9h"
   },
   "source": [
    "### Grupo 2\n",
    "- Jimena Teran \n",
    "- Juan Lynch\n",
    "- Renzo Falciglia"
   ]
  },
  {
   "cell_type": "markdown",
   "metadata": {},
   "source": [
    "### Parte I: Analizando la base"
   ]
  },
  {
   "cell_type": "markdown",
   "metadata": {},
   "source": [
    "#### Ejercicio 2\n",
    "En este ejercicio se hace una limpieza de la base de datos y un primer análisis exploratorio."
   ]
  },
  {
   "cell_type": "code",
   "execution_count": 2,
   "metadata": {},
   "outputs": [
    {
     "name": "stdout",
     "output_type": "stream",
     "text": [
      "   CODUSU  nro_hogar  componente  h15    ano4  trimestre  region mas_500  \\\n",
      "0  125098        1.0         1.0  1.0  2004.0        1.0     1.0       S   \n",
      "1  125397        1.0         1.0  1.0  2004.0        1.0     1.0       S   \n",
      "2  125515        1.0         1.0  1.0  2004.0        1.0     1.0       S   \n",
      "3  125558        1.0         1.0  1.0  2004.0        1.0     1.0       S   \n",
      "4  125558        1.0         2.0  1.0  2004.0        1.0     1.0       S   \n",
      "\n",
      "   aglomerado  pondera  ...  deccfr  ideccfr  rdeccfr  gdeccfr  pdeccfr  \\\n",
      "0        32.0   1299.0  ...      07                06       06            \n",
      "1        32.0   2018.0  ...      00                00       00            \n",
      "2        32.0   1486.0  ...      07                07       07            \n",
      "3        32.0   1674.0  ...      08                08       08            \n",
      "4        32.0   1674.0  ...      08                08       08            \n",
      "\n",
      "   adeccfr  pj1_1  pj2_1  pj3_1  idimpp  \n",
      "0       04    0.0    0.0    0.0   00000  \n",
      "1       00    0.0    0.0    0.0   00000  \n",
      "2       05    0.0    0.0    0.0   00020  \n",
      "3       06    0.0    0.0    0.0   00000  \n",
      "4       06    0.0    0.0    0.0   00000  \n",
      "\n",
      "[5 rows x 176 columns]\n"
     ]
    }
   ],
   "source": [
    "#Importamos los paquetes necesarios y cargamos el archivo del 1T de 2004\n",
    "\n",
    "import pandas as pd\n",
    "import pyreadstat\n",
    "\n",
    "#Cargamos archivo .sav\n",
    "ruta_sav = \"EPH_1T2004/Individual_t104.sav\"\n",
    "df_2004, meta_2004 = pyreadstat.read_sav(ruta_sav)\n",
    "\n",
    "#Vemos el data frame\n",
    "print(df_2004.head())\n"
   ]
  },
  {
   "cell_type": "code",
   "execution_count": 5,
   "metadata": {},
   "outputs": [
    {
     "name": "stdout",
     "output_type": "stream",
     "text": [
      "                          CODUSU  ANO4  TRIMESTRE  NRO_HOGAR  COMPONENTE  H15  \\\n",
      "0  TQRMNOPUTHLMKQCDEGGFB00852588  2024          1          1           3    1   \n",
      "1  TQRMNOPUTHLMKQCDEGGFB00852588  2024          1          1           4    1   \n",
      "2  TQRMNOPUTHLMKQCDEGGFB00852588  2024          1          1           5    0   \n",
      "3  TQRMNOPPWHLLKRCDEGGFB00852574  2024          1          1           1    1   \n",
      "4  TQRMNOPPWHLLKRCDEGGFB00852574  2024          1          1           2    1   \n",
      "\n",
      "   REGION MAS_500  AGLOMERADO  PONDERA  ...  PDECIFR  ADECIFR    IPCF  DECCFR  \\\n",
      "0      42       S          10      439  ...      NaN       12       0      12   \n",
      "1      42       S          10      439  ...      NaN       12       0      12   \n",
      "2      42       S          10      439  ...      NaN       12       0      12   \n",
      "3      42       S          10      675  ...      NaN        8  212500       6   \n",
      "4      42       S          10      675  ...      NaN        8  212500       6   \n",
      "\n",
      "   IDECCFR  RDECCFR  GDECCFR  PDECCFR  ADECCFR  PONDIH  \n",
      "0     12.0       12     12.0      NaN       12       0  \n",
      "1     12.0       12     12.0      NaN       12       0  \n",
      "2     12.0       12     12.0      NaN       12       0  \n",
      "3      6.0        6      6.0      NaN        6    1610  \n",
      "4      6.0        6      6.0      NaN        6    1610  \n",
      "\n",
      "[5 rows x 177 columns]\n"
     ]
    },
    {
     "name": "stderr",
     "output_type": "stream",
     "text": [
      "C:\\Users\\renzo\\AppData\\Local\\Temp\\ipykernel_3664\\3068888573.py:5: DtypeWarning: Columns (102,105) have mixed types. Specify dtype option on import or set low_memory=False.\n",
      "  df_2024 = pd.read_csv(ruta_txt, delimiter=\";\")\n"
     ]
    }
   ],
   "source": [
    "#Cargamos el archivo del 1T 2024\n",
    "\n",
    "#Cargamos el archivo archivo .txt\n",
    "ruta_txt = \"EPH_1T2024/usu_individual_T124.txt\"\n",
    "df_2024 = pd.read_csv(ruta_txt, delimiter=\";\")  \n",
    "\n",
    "# Mostrar las primeras filas\n",
    "print(df_2024.head())"
   ]
  },
  {
   "cell_type": "code",
   "execution_count": 6,
   "metadata": {},
   "outputs": [
    {
     "name": "stdout",
     "output_type": "stream",
     "text": [
      "Variables 2004:\n",
      "['CODUSU', 'nro_hogar', 'componente', 'h15', 'ano4', 'trimestre', 'region', 'mas_500', 'aglomerado', 'pondera', 'ch03', 'ch04', 'ch06', 'ch07', 'ch08', 'ch09', 'ch10', 'ch11', 'ch12', 'ch13', 'ch14', 'ch15', 'ch15_cod', 'ch16', 'ch16_cod', 'nivel_ed', 'estado', 'cat_ocup', 'cat_inac', 'pp02c1', 'pp02c2', 'pp02c3', 'pp02c4', 'pp02c5', 'pp02c6', 'pp02c7', 'pp02c8', 'pp02e', 'pp02h', 'pp02i', 'pp03c', 'pp03d', 'pp3e_tot', 'pp3f_tot', 'pp03g', 'pp03h', 'pp03i', 'pp03j', 'intensi', 'pp04a', 'pp04b_cod', 'pp04b1', 'pp04b2', 'pp04b3_mes', 'pp04b3_ano', 'pp04b3_dia', 'pp04c', 'pp04c99', 'pp04d_cod', 'pp04g', 'pp05b2_mes', 'pp05b2_ano', 'pp05b2_dia', 'pp05c_1', 'pp05c_2', 'pp05c_3', 'pp05e', 'pp05f', 'pp05h', 'pp06a', 'pp06c', 'pp06d', 'pp06e', 'pp06h', 'pp07a', 'pp07c', 'pp07d', 'pp07e', 'pp07f1', 'pp07f2', 'pp07f3', 'pp07f4', 'pp07f5', 'pp07g1', 'pp07g2', 'pp07g3', 'pp07g4', 'pp07g_59', 'pp07h', 'pp07i', 'pp07j', 'pp07k', 'pp08d1', 'pp08d4', 'pp08f1', 'pp08f2', 'pp08j1', 'pp08j2', 'pp08j3', 'pp09a', 'pp09a_esp', 'pp09b', 'pp09c', 'pp09c_esp', 'pp10a', 'pp10c', 'pp10d', 'pp10e', 'pp11a', 'pp11b_cod', 'pp11b1', 'pp11b2_mes', 'pp11b2_ano', 'pp11b2_dia', 'pp11c', 'pp11c99', 'pp11d_cod', 'pp11g_ano', 'pp11g_mes', 'pp11g_dia', 'pp11l', 'pp11l1', 'pp11m', 'pp11n', 'pp11o', 'pp11p', 'pp11q', 'pp11r', 'pp11s', 'pp11t', 'p21', 'decocur', 'idecocur', 'rdecocur', 'gdecocur', 'pdecocur', 'adecocur', 'tot_p12', 'p47t', 'decindr', 'idecindr', 'rdecindr', 'gdecindr', 'pdecindr', 'adecindr', 'v2_m', 'v3_m', 'v4_m', 'v5_m', 'v8_m', 'v9_m', 'v10_m', 'v11_m', 'v12_m', 'v18_m', 'v19_am', 'v21_m', 't_vi', 'itf', 'decifr', 'idecifr', 'rdecifr', 'gdecifr', 'pdecifr', 'adecifr', 'ipcf', 'deccfr', 'ideccfr', 'rdeccfr', 'gdeccfr', 'pdeccfr', 'adeccfr', 'pj1_1', 'pj2_1', 'pj3_1', 'idimpp']\n",
      "\n",
      "Variables 2024:\n",
      "['CODUSU', 'ANO4', 'TRIMESTRE', 'NRO_HOGAR', 'COMPONENTE', 'H15', 'REGION', 'MAS_500', 'AGLOMERADO', 'PONDERA', 'CH03', 'CH04', 'CH05', 'CH06', 'CH07', 'CH08', 'CH09', 'CH10', 'CH11', 'CH12', 'CH13', 'CH14', 'CH15', 'CH15_COD', 'CH16', 'CH16_COD', 'NIVEL_ED', 'ESTADO', 'CAT_OCUP', 'CAT_INAC', 'IMPUTA', 'PP02C1', 'PP02C2', 'PP02C3', 'PP02C4', 'PP02C5', 'PP02C6', 'PP02C7', 'PP02C8', 'PP02E', 'PP02H', 'PP02I', 'PP03C', 'PP03D', 'PP3E_TOT', 'PP3F_TOT', 'PP03G', 'PP03H', 'PP03I', 'PP03J', 'INTENSI', 'PP04A', 'PP04B_COD', 'PP04B1', 'PP04B2', 'PP04B3_MES', 'PP04B3_ANO', 'PP04B3_DIA', 'PP04C', 'PP04C99', 'PP04D_COD', 'PP04G', 'PP05B2_MES', 'PP05B2_ANO', 'PP05B2_DIA', 'PP05C_1', 'PP05C_2', 'PP05C_3', 'PP05E', 'PP05F', 'PP05H', 'PP06A', 'PP06C', 'PP06D', 'PP06E', 'PP06H', 'PP07A', 'PP07C', 'PP07D', 'PP07E', 'PP07F1', 'PP07F2', 'PP07F3', 'PP07F4', 'PP07F5', 'PP07G1', 'PP07G2', 'PP07G3', 'PP07G4', 'PP07G_59', 'PP07H', 'PP07I', 'PP07J', 'PP07K', 'PP08D1', 'PP08D4', 'PP08F1', 'PP08F2', 'PP08J1', 'PP08J2', 'PP08J3', 'PP09A', 'PP09A_ESP', 'PP09B', 'PP09C', 'PP09C_ESP', 'PP10A', 'PP10C', 'PP10D', 'PP10E', 'PP11A', 'PP11B_COD', 'PP11B1', 'PP11B2_MES', 'PP11B2_ANO', 'PP11B2_DIA', 'PP11C', 'PP11C99', 'PP11D_COD', 'PP11G_ANO', 'PP11G_MES', 'PP11G_DIA', 'PP11L', 'PP11L1', 'PP11M', 'PP11N', 'PP11O', 'PP11P', 'PP11Q', 'PP11R', 'PP11S', 'PP11T', 'P21', 'DECOCUR', 'IDECOCUR', 'RDECOCUR', 'GDECOCUR', 'PDECOCUR', 'ADECOCUR', 'PONDIIO', 'TOT_P12', 'P47T', 'DECINDR', 'IDECINDR', 'RDECINDR', 'GDECINDR', 'PDECINDR', 'ADECINDR', 'PONDII', 'V2_M', 'V3_M', 'V4_M', 'V5_M', 'V8_M', 'V9_M', 'V10_M', 'V11_M', 'V12_M', 'V18_M', 'V19_AM', 'V21_M', 'T_VI', 'ITF', 'DECIFR', 'IDECIFR', 'RDECIFR', 'GDECIFR', 'PDECIFR', 'ADECIFR', 'IPCF', 'DECCFR', 'IDECCFR', 'RDECCFR', 'GDECCFR', 'PDECCFR', 'ADECCFR', 'PONDIH']\n"
     ]
    }
   ],
   "source": [
    "#Analizamos las columnas de cada data frame para hacer la unión\n",
    "\n",
    "#Listas de columnas\n",
    "variables_2004 = df_2004.columns.tolist()\n",
    "variables_2024 = df_2024.columns.tolist()\n",
    "\n",
    "print(\"Variables 2004:\")\n",
    "print(variables_2004)\n",
    "print(\"\\nVariables 2024:\")\n",
    "print(variables_2024)"
   ]
  },
  {
   "cell_type": "code",
   "execution_count": 7,
   "metadata": {},
   "outputs": [
    {
     "name": "stdout",
     "output_type": "stream",
     "text": [
      "Index(['CODUSU', 'NRO_HOGAR', 'COMPONENTE', 'H15', 'ANO4', 'TRIMESTRE',\n",
      "       'REGION', 'MAS_500', 'AGLOMERADO', 'PONDERA',\n",
      "       ...\n",
      "       'DECCFR', 'IDECCFR', 'RDECCFR', 'GDECCFR', 'PDECCFR', 'ADECCFR',\n",
      "       'PJ1_1', 'PJ2_1', 'PJ3_1', 'IDIMPP'],\n",
      "      dtype='object', length=176)\n"
     ]
    }
   ],
   "source": [
    "#Primero convierto los nombres del df de 2004 a mayúscula así están igual en ambas bases\n",
    "\n",
    "#Cambio los nombres\n",
    "df_2004.columns = df_2004.columns.str.upper()\n",
    "\n",
    "print(df_2004.columns)"
   ]
  },
  {
   "cell_type": "code",
   "execution_count": 10,
   "metadata": {},
   "outputs": [],
   "source": [
    "#Definimos las variables que necesitaremos de ambas bases para poder hacer la unión\n",
    "\n",
    "variables_filtrar = [\"AGLOMERADO\", \"CH04\", \"CH06\", \"CH07\", \"CH08\", \"NIVEL_ED\", \"ESTADO\", \"CAT_INAC\", \"IPCF\"]\n",
    "\n",
    "#Filtramos en la base de 2004\n",
    "df_2004_filtrado = df_2004[variables_filtrar]\n",
    "\n",
    "#Filtramos en la base de 2024\n",
    "df_2024_filtrado = df_2024[variables_filtrar]"
   ]
  },
  {
   "cell_type": "code",
   "execution_count": 11,
   "metadata": {},
   "outputs": [
    {
     "name": "stdout",
     "output_type": "stream",
     "text": [
      "   AGLOMERADO  CH04  CH06  CH07  CH08  NIVEL_ED  ESTADO  CAT_INAC   IPCF  \\\n",
      "0        32.0   1.0  79.0   4.0   1.0       3.0     3.0       1.0  368.0   \n",
      "1        32.0   2.0  67.0   3.0   4.0       2.0     1.0       0.0    0.0   \n",
      "2        32.0   2.0  74.0   4.0   1.0       2.0     3.0       1.0  440.0   \n",
      "3        32.0   1.0  54.0   2.0   2.0       2.0     1.0       0.0  532.5   \n",
      "4        32.0   2.0  51.0   2.0   2.0       6.0     3.0       4.0  532.5   \n",
      "\n",
      "    origen  \n",
      "0  T1_2004  \n",
      "1  T1_2004  \n",
      "2  T1_2004  \n",
      "3  T1_2004  \n",
      "4  T1_2004  \n"
     ]
    },
    {
     "name": "stderr",
     "output_type": "stream",
     "text": [
      "C:\\Users\\renzo\\AppData\\Local\\Temp\\ipykernel_3664\\355370912.py:7: SettingWithCopyWarning: \n",
      "A value is trying to be set on a copy of a slice from a DataFrame.\n",
      "Try using .loc[row_indexer,col_indexer] = value instead\n",
      "\n",
      "See the caveats in the documentation: https://pandas.pydata.org/pandas-docs/stable/user_guide/indexing.html#returning-a-view-versus-a-copy\n",
      "  df_2004_filtrado[\"origen\"] = \"T1_2004\"\n"
     ]
    }
   ],
   "source": [
    "#Unión de los df\n",
    "\n",
    "#Ordenamos las columnas por si están en diferente orden\n",
    "df_2024_filtrado = df_2024_filtrado[df_2004_filtrado.columns]\n",
    "\n",
    "#Agregamos una columna de origen a cada df\n",
    "df_2004_filtrado[\"origen\"] = \"T1_2004\"\n",
    "df_2024_filtrado[\"origen\"] = \"T1_2024\"\n",
    "\n",
    "#Unimos verticalmente y verificamos los resultados\n",
    "df_union = pd.concat([df_2004_filtrado, df_2024_filtrado], ignore_index=True)\n",
    "\n",
    "print(df_union.head())"
   ]
  },
  {
   "cell_type": "code",
   "execution_count": null,
   "metadata": {},
   "outputs": [
    {
     "name": "stdout",
     "output_type": "stream",
     "text": [
      "   AGLOMERADO  CH04  CH06  CH07  CH08  NIVEL_ED  ESTADO  CAT_INAC   IPCF  \\\n",
      "0        32.0   1.0  79.0   4.0   1.0       3.0     3.0       1.0  368.0   \n",
      "1        32.0   2.0  67.0   3.0   4.0       2.0     1.0       0.0    0.0   \n",
      "2        32.0   2.0  74.0   4.0   1.0       2.0     3.0       1.0  440.0   \n",
      "3        32.0   1.0  54.0   2.0   2.0       2.0     1.0       0.0  532.5   \n",
      "4        32.0   2.0  51.0   2.0   2.0       6.0     3.0       4.0  532.5   \n",
      "\n",
      "    origen  \n",
      "0  T1_2004  \n",
      "1  T1_2004  \n",
      "2  T1_2004  \n",
      "3  T1_2004  \n",
      "4  T1_2004  \n"
     ]
    }
   ],
   "source": [
    "#Filtro los aglomerados que no corresponden a CABA o a partidos del Gran Buenos Aires\n",
    "\n",
    "df_union_filtrado = df_union[df_union[\"AGLOMERADO\"].isin([32, 33])]\n",
    "\n",
    "print(df_union_filtrado.head())"
   ]
  },
  {
   "cell_type": "code",
   "execution_count": null,
   "metadata": {},
   "outputs": [],
   "source": [
    "#Elimino las observaciones que tienen negativo en ingresos y en edad"
   ]
  }
 ],
 "metadata": {
  "anaconda-cloud": {},
  "colab": {
   "name": "TP1 - Parte 1.ipynb",
   "provenance": []
  },
  "kernelspec": {
   "display_name": "Python 3",
   "language": "python",
   "name": "python3"
  },
  "language_info": {
   "codemirror_mode": {
    "name": "ipython",
    "version": 3
   },
   "file_extension": ".py",
   "mimetype": "text/x-python",
   "name": "python",
   "nbconvert_exporter": "python",
   "pygments_lexer": "ipython3",
   "version": "3.12.3"
  }
 },
 "nbformat": 4,
 "nbformat_minor": 4
}
