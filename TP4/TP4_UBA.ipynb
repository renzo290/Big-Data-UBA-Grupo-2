{
 "cells": [
  {
   "cell_type": "markdown",
   "metadata": {
    "collapsed": true,
    "id": "Dh8MkXaG-c9Y",
    "jupyter": {
     "outputs_hidden": true
    }
   },
   "source": [
    "# Big Data (UBA) -  2024\n",
    "\n",
    "## Trabajo Práctico 4 "
   ]
  },
  {
   "cell_type": "markdown",
   "metadata": {
    "id": "N9TU2y7E-c9h"
   },
   "source": [
    "### Grupo 2\n",
    "- Jimena Teran \n",
    "- Juan Lynch\n",
    "- Renzo Falciglia"
   ]
  },
  {
   "cell_type": "markdown",
   "metadata": {},
   "source": [
    "### Parte I: Analizando la base"
   ]
  },
  {
   "cell_type": "markdown",
   "metadata": {},
   "source": [
    "#### Ejercicio 2\n",
    "En este ejercicio se cargan los archivos y se unen a la base del TP3."
   ]
  },
  {
   "cell_type": "code",
   "execution_count": 1,
   "metadata": {},
   "outputs": [
    {
     "name": "stdout",
     "output_type": "stream",
     "text": [
      "     CODUSU  nro_hogar realizada    ano4       trimestre    region mas_500  \\\n",
      "0  125051          1.0        Sí  2004.0  1er. Trimestre  Pampeana       S   \n",
      "1  125082          1.0        Sí  2004.0  1er. Trimestre  Pampeana       S   \n",
      "2  125181          1.0        Sí  2004.0  1er. Trimestre  Pampeana       S   \n",
      "3  125283          1.0        Sí  2004.0  1er. Trimestre  Pampeana       S   \n",
      "4  126192          1.0        Sí  2004.0  1er. Trimestre  Pampeana       S   \n",
      "\n",
      "      aglomerado  pondera   iv1  ... gdeccfr pdeccfr adeccfr vii1_1 vii1_2  \\\n",
      "0  Gran La Plata    355.0  Casa  ...      01              01    1.0    0.0   \n",
      "1  Gran La Plata    306.0  Casa  ...      03              02    2.0    0.0   \n",
      "2  Gran La Plata    541.0  Casa  ...      09              09    2.0    0.0   \n",
      "3  Gran La Plata    255.0  Casa  ...      07              07    1.0    2.0   \n",
      "4  Gran La Plata    218.0  Casa  ...      08              08    2.0    0.0   \n",
      "\n",
      "                                 vii2_1 vii2_2 vii2_3 vii2_4 idimph  \n",
      "0                                   3.0    0.0    0.0    0.0  00000  \n",
      "1                                  98.0    0.0    0.0    0.0  10000  \n",
      "2                                   1.0    3.0    0.0    0.0  00000  \n",
      "3                                   3.0    4.0    0.0    0.0  10000  \n",
      "4  Otra persona que no vive en el hogar    0.0    0.0    0.0  10000  \n",
      "\n",
      "[5 rows x 88 columns]\n",
      "                          CODUSU  ANO4  TRIMESTRE  NRO_HOGAR  REALIZADA  \\\n",
      "0  TQRMNORPSHLOLMCDEFNFF00852337  2024          1          1          1   \n",
      "1  TQRMNOPRYHKOKTCDEFNFF00856789  2024          1          1          1   \n",
      "2  TQTMNORRSHKOKTCDEFNFF00856790  2024          1          1          1   \n",
      "3  TQRMNORRSHKOKTCDEFNFF00856791  2024          1          1          1   \n",
      "4  TQRMNOQTVHKLLLCDEFNFF00856792  2024          1          1          1   \n",
      "\n",
      "   REGION MAS_500  AGLOMERADO  PONDERA  IV1  ... GDECCFR  PDECCFR  ADECCFR  \\\n",
      "0      41       N           7      179    1  ...     NaN      5.0        5   \n",
      "1      41       N           7      313    1  ...     NaN     12.0       12   \n",
      "2      41       N           7      286    1  ...     NaN      8.0        9   \n",
      "3      41       N           7      306    1  ...     NaN      5.0        6   \n",
      "4      41       N           7      361    1  ...     NaN      6.0        7   \n",
      "\n",
      "  PONDIH  VII1_1  VII1_2  VII2_1  VII2_2 VII2_3  VII2_4  \n",
      "0    212       1       2      98       0      0       0  \n",
      "1      0       1       0       2       0      0       0  \n",
      "2    401       2       0       1       0      0       0  \n",
      "3    438       2       0       3       0      0       0  \n",
      "4    831       1       0       2       0      0       0  \n",
      "\n",
      "[5 rows x 88 columns]\n"
     ]
    }
   ],
   "source": [
    "#Ejercicio 2\n",
    "\n",
    "#Importamos los paquetes necesarios y cargamos el archivo del 1T de 2004\n",
    "\n",
    "import pandas as pd\n",
    "import pyreadstat\n",
    "import matplotlib.pyplot as plt\n",
    "import numpy as np\n",
    "import pyarrow\n",
    "\n",
    "\n",
    "#Cargamos la base de hogares de 2004\n",
    "archivo_dta = \"EPH_1T2004/Hogar_t104.dta\"\n",
    "df_2004 = pd.read_stata(archivo_dta)\n",
    "print(df_2004.head())\n",
    "\n",
    "#Cargamos la base de hogares de 2024\n",
    "archivo_txt = \"EPH_1T2024/usu_hogar_t124.txt\"\n",
    "df_2024 = pd.read_csv(archivo_txt,  sep=\";\")\n",
    "print(df_2024.head())\n"
   ]
  },
  {
   "cell_type": "code",
   "execution_count": 2,
   "metadata": {},
   "outputs": [
    {
     "name": "stdout",
     "output_type": "stream",
     "text": [
      "Index(['CODUSU', 'NRO_HOGAR', 'REALIZADA', 'ANO4', 'TRIMESTRE', 'REGION',\n",
      "       'MAS_500', 'AGLOMERADO', 'PONDERA', 'IV1', 'IV1_ESP', 'IV2', 'IV3',\n",
      "       'IV3_ESP', 'IV4', 'IV5', 'IV6', 'IV7', 'IV7_ESP', 'IV8', 'IV9', 'IV10',\n",
      "       'IV11', 'IV12_1', 'IV12_2', 'IV12_3', 'II1', 'II2', 'II3', 'II3_1',\n",
      "       'II4_1', 'II4_2', 'II4_3', 'II5', 'II5_1', 'II6', 'II6_1', 'II7',\n",
      "       'II7_ESP', 'II8', 'II8_ESP', 'II9', 'V1', 'V2', 'V21', 'V22', 'V3',\n",
      "       'V4', 'V5', 'V6', 'V7', 'V8', 'V9', 'V10', 'V11', 'V12', 'V13', 'V14',\n",
      "       'V15', 'V16', 'V17', 'V18', 'V19_A', 'V19_B', 'IX_TOT', 'IX_MEN10',\n",
      "       'IX_MAYEQ10', 'ITF', 'DECIFR', 'IDECIFR', 'RDECIFR', 'GDECIFR',\n",
      "       'PDECIFR', 'ADECIFR', 'IPCF', 'DECCFR', 'IDECCFR', 'RDECCFR', 'GDECCFR',\n",
      "       'PDECCFR', 'ADECCFR', 'VII1_1', 'VII1_2', 'VII2_1', 'VII2_2', 'VII2_3',\n",
      "       'VII2_4', 'IDIMPH'],\n",
      "      dtype='object')\n",
      "Index(['CODUSU', 'ANO4', 'TRIMESTRE', 'NRO_HOGAR', 'REALIZADA', 'REGION',\n",
      "       'MAS_500', 'AGLOMERADO', 'PONDERA', 'IV1', 'IV1_ESP', 'IV2', 'IV3',\n",
      "       'IV3_ESP', 'IV4', 'IV5', 'IV6', 'IV7', 'IV7_ESP', 'IV8', 'IV9', 'IV10',\n",
      "       'IV11', 'IV12_1', 'IV12_2', 'IV12_3', 'II1', 'II2', 'II3', 'II3_1',\n",
      "       'II4_1', 'II4_2', 'II4_3', 'II5', 'II5_1', 'II6', 'II6_1', 'II7',\n",
      "       'II7_ESP', 'II8', 'II8_ESP', 'II9', 'V1', 'V2', 'V21', 'V22', 'V3',\n",
      "       'V4', 'V5', 'V6', 'V7', 'V8', 'V9', 'V10', 'V11', 'V12', 'V13', 'V14',\n",
      "       'V15', 'V16', 'V17', 'V18', 'V19_A', 'V19_B', 'IX_TOT', 'IX_MEN10',\n",
      "       'IX_MAYEQ10', 'ITF', 'DECIFR', 'IDECIFR', 'RDECIFR', 'GDECIFR',\n",
      "       'PDECIFR', 'ADECIFR', 'IPCF', 'DECCFR', 'IDECCFR', 'RDECCFR', 'GDECCFR',\n",
      "       'PDECCFR', 'ADECCFR', 'PONDIH', 'VII1_1', 'VII1_2', 'VII2_1', 'VII2_2',\n",
      "       'VII2_3', 'VII2_4'],\n",
      "      dtype='object')\n"
     ]
    }
   ],
   "source": [
    "#Cambio los nombres\n",
    "df_2004.columns = df_2004.columns.str.upper()\n",
    "print(df_2004.columns)\n",
    "print(df_2024.columns)"
   ]
  },
  {
   "cell_type": "code",
   "execution_count": 3,
   "metadata": {},
   "outputs": [],
   "source": [
    "#Filtro los aglomerados que no corresponden a CABA o a partidos del Gran Buenos Aires\n",
    "\n",
    "df_2004 = df_2004[df_2004[\"AGLOMERADO\"].isin([\"Ciudad de Buenos Aires\", \"Partidos del GBA\"])]\n",
    "df_2024 = df_2024[df_2024[\"AGLOMERADO\"].isin([32, 33])]"
   ]
  },
  {
   "cell_type": "code",
   "execution_count": 4,
   "metadata": {},
   "outputs": [],
   "source": [
    "#Filtro por las variables de interés para predecir el desempleo\n",
    "\n",
    "variables_filtrar = [\"CODUSU\", \"NRO_HOGAR\", \"AGLOMERADO\", \"ITF\", \"IPCF\", \"DECIFR\", \"DECCFR\", \"IV1\", \"II1\", \"II2\", \"V5\", \"IX_TOT\", \"IV12_3\",\n",
    "                     \"II4_3\", \"II9\", \"V1\"]\n",
    "\n",
    "#Filtramos en la base de 2004\n",
    "df_2004 = df_2004[variables_filtrar]\n",
    "\n",
    "#Filtramos en la base de 2024\n",
    "df_2024 = df_2024[variables_filtrar]"
   ]
  },
  {
   "cell_type": "code",
   "execution_count": 5,
   "metadata": {},
   "outputs": [
    {
     "name": "stdout",
     "output_type": "stream",
     "text": [
      "     CODUSU  NRO_HOGAR              AGLOMERADO     ITF   IPCF DECIFR DECCFR  \\\n",
      "0  125098          1.0  Ciudad de Buenos Aires   368.0  368.0     02     07   \n",
      "1  125397          1.0  Ciudad de Buenos Aires     0.0    0.0     00     00   \n",
      "2  125515          1.0  Ciudad de Buenos Aires   440.0  440.0     03     07   \n",
      "3  125558          1.0  Ciudad de Buenos Aires  2130.0  532.5     09     08   \n",
      "4  125599          1.0  Ciudad de Buenos Aires  1040.0  208.0     07     04   \n",
      "\n",
      "            IV1  II1  II2  V5  IX_TOT IV12_3 II4_3  \\\n",
      "0  Departamento  3.0  1.0  No     1.0     No    No   \n",
      "1  Departamento  2.0  1.0  No     1.0     No    No   \n",
      "2  Departamento  2.0  1.0  No     1.0     No    No   \n",
      "3  Departamento  4.0  3.0  No     4.0     No    No   \n",
      "4          Casa  4.0  3.0  No     5.0     No    Sí   \n",
      "\n",
      "                                                 II9  V1  \n",
      "0  Compartido con otro/s hogar/es de la misma viv...  No  \n",
      "1                            Uso exclusivo del hogar  Sí  \n",
      "2                            Uso exclusivo del hogar  No  \n",
      "3                            Uso exclusivo del hogar  Sí  \n",
      "4                            Uso exclusivo del hogar  Sí  \n"
     ]
    }
   ],
   "source": [
    "#Unimos verticalmente y verificamos los resultados\n",
    "df_hogar = pd.concat([df_2004, df_2024], ignore_index=True)\n",
    "\n",
    "print(df_hogar.head())"
   ]
  },
  {
   "cell_type": "code",
   "execution_count": 6,
   "metadata": {},
   "outputs": [
    {
     "name": "stdout",
     "output_type": "stream",
     "text": [
      "       AGLOMERADO                         CODUSU  NRO_HOGAR  CH04  CH06  CH07  \\\n",
      "0            32.0                         125098        1.0   1.0  79.0   4.0   \n",
      "1            32.0                         125397        1.0   2.0  67.0   3.0   \n",
      "2            32.0                         125515        1.0   2.0  74.0   4.0   \n",
      "3            32.0                         125558        1.0   1.0  54.0   2.0   \n",
      "4            32.0                         125558        1.0   2.0  51.0   2.0   \n",
      "...           ...                            ...        ...   ...   ...   ...   \n",
      "13565        33.0  TQRMNOPUQHKMKNCDEIJAH00861661        1.0   2.0  43.0   3.0   \n",
      "13566        33.0  TQRMNOPUQHKMKNCDEIJAH00861661        1.0   1.0  21.0   5.0   \n",
      "13567        33.0  TQRMNOPUQHKMKNCDEIJAH00861661        1.0   1.0  20.0   5.0   \n",
      "13568        33.0  TQRMNOPUQHKMKNCDEIJAH00861661        1.0   1.0  11.0   5.0   \n",
      "13569        33.0  TQRMNOPUQHKMKNCDEIJAH00861661        1.0   2.0  24.0   5.0   \n",
      "\n",
      "       CH08  NIVEL_ED  ESTADO  CAT_INAC   IPCF       P21   ORIGEN  \n",
      "0       1.0       3.0     3.0       1.0  368.0       0.0  T1_2004  \n",
      "1       4.0       2.0     1.0       0.0    0.0       0.0  T1_2004  \n",
      "2       1.0       2.0     3.0       1.0  440.0       0.0  T1_2004  \n",
      "3       2.0       2.0     1.0       0.0  532.5    2000.0  T1_2004  \n",
      "4       2.0       6.0     3.0       4.0  532.5       0.0  T1_2004  \n",
      "...     ...       ...     ...       ...    ...       ...      ...  \n",
      "13565   1.0       3.0     1.0       0.0    0.0  250000.0  T1_2024  \n",
      "13566   1.0       3.0     0.0       0.0    0.0       0.0  T1_2024  \n",
      "13567   1.0       3.0     0.0       0.0    0.0       0.0  T1_2024  \n",
      "13568   1.0       3.0     0.0       0.0    0.0       0.0  T1_2024  \n",
      "13569   1.0       5.0     0.0       0.0    0.0       0.0  T1_2024  \n",
      "\n",
      "[13570 rows x 13 columns]\n"
     ]
    }
   ],
   "source": [
    "#Cargamos la bbdd del TP3, que la generé con el script \"TP4_UBA_bbdd_TP3.ipynb\"\n",
    "\n",
    "df_individual = pd.read_parquet('datos.individual')\n",
    "print(df_individual)"
   ]
  },
  {
   "cell_type": "code",
   "execution_count": 7,
   "metadata": {},
   "outputs": [
    {
     "name": "stdout",
     "output_type": "stream",
     "text": [
      "int64\n",
      "int64\n"
     ]
    },
    {
     "name": "stderr",
     "output_type": "stream",
     "text": [
      "C:\\Users\\renzo\\AppData\\Local\\Temp\\ipykernel_21292\\1976463751.py:8: FutureWarning: A value is trying to be set on a copy of a DataFrame or Series through chained assignment using an inplace method.\n",
      "The behavior will change in pandas 3.0. This inplace method will never work because the intermediate object on which we are setting values always behaves as a copy.\n",
      "\n",
      "For example, when doing 'df[col].method(value, inplace=True)', try using 'df.method({col: value}, inplace=True)' or df[col] = df[col].method(value) instead, to perform the operation inplace on the original object.\n",
      "\n",
      "\n",
      "  df_individual['NRO_HOGAR'].fillna(0, inplace=True)  # Reemplazar NaN con 0, o usa otro valor según convenga\n",
      "C:\\Users\\renzo\\AppData\\Local\\Temp\\ipykernel_21292\\1976463751.py:9: FutureWarning: A value is trying to be set on a copy of a DataFrame or Series through chained assignment using an inplace method.\n",
      "The behavior will change in pandas 3.0. This inplace method will never work because the intermediate object on which we are setting values always behaves as a copy.\n",
      "\n",
      "For example, when doing 'df[col].method(value, inplace=True)', try using 'df.method({col: value}, inplace=True)' or df[col] = df[col].method(value) instead, to perform the operation inplace on the original object.\n",
      "\n",
      "\n",
      "  df_hogar['NRO_HOGAR'].fillna(0, inplace=True)\n"
     ]
    }
   ],
   "source": [
    "#Transformo las variables para poder hacer el merge\n",
    "\n",
    "# Asegurarse de que las columnas no tengan valores NaN o no numéricos\n",
    "df_individual['NRO_HOGAR'] = pd.to_numeric(df_individual['NRO_HOGAR'], errors='coerce')\n",
    "df_hogar['NRO_HOGAR'] = pd.to_numeric(df_hogar['NRO_HOGAR'], errors='coerce')\n",
    "\n",
    "# Manejar valores NaN antes de convertir a int64\n",
    "df_individual['NRO_HOGAR'].fillna(0, inplace=True)  # Reemplazar NaN con 0, o usa otro valor según convenga\n",
    "df_hogar['NRO_HOGAR'].fillna(0, inplace=True)\n",
    "\n",
    "# Convertir a int64\n",
    "df_individual['NRO_HOGAR'] = df_individual['NRO_HOGAR'].astype('int64')\n",
    "df_hogar['NRO_HOGAR'] = df_hogar['NRO_HOGAR'].astype('int64')\n",
    "\n",
    "# Confirmar el tipo de datos\n",
    "print(df_individual['NRO_HOGAR'].dtype)  \n",
    "print(df_hogar['NRO_HOGAR'].dtype)        \n"
   ]
  },
  {
   "cell_type": "code",
   "execution_count": 8,
   "metadata": {},
   "outputs": [
    {
     "name": "stdout",
     "output_type": "stream",
     "text": [
      "object\n",
      "object\n",
      "int64\n",
      "int64\n"
     ]
    }
   ],
   "source": [
    "#Veo los formatos para poder hacer el merge\n",
    "\n",
    "print(df_individual['CODUSU'].dtype)\n",
    "print(df_hogar['CODUSU'].dtype)\n",
    "\n",
    "print(df_individual['NRO_HOGAR'].dtype)\n",
    "print(df_hogar['NRO_HOGAR'].dtype)"
   ]
  },
  {
   "cell_type": "code",
   "execution_count": 9,
   "metadata": {},
   "outputs": [],
   "source": [
    "# Quitar espacios en blanco de CODUSU (si hay)\n",
    "df_individual['CODUSU'] = df_individual['CODUSU'].str.strip()\n",
    "df_hogar['CODUSU'] = df_hogar['CODUSU'].str.strip()\n",
    "\n",
    "# Asegurar consistencia en tipos (reconvertir por seguridad)\n",
    "df_individual['CODUSU'] = df_individual['CODUSU'].astype(str)\n",
    "df_hogar['CODUSU'] = df_hogar['CODUSU'].astype(str)\n",
    "\n",
    "df_individual['NRO_HOGAR'] = df_individual['NRO_HOGAR'].astype(int)\n",
    "df_hogar['NRO_HOGAR'] = df_hogar['NRO_HOGAR'].astype(int)"
   ]
  },
  {
   "cell_type": "code",
   "execution_count": 10,
   "metadata": {},
   "outputs": [
    {
     "name": "stdout",
     "output_type": "stream",
     "text": [
      "   AGLOMERADO_x  CODUSU  NRO_HOGAR  CH04  CH06  CH07  CH08  NIVEL_ED  ESTADO  \\\n",
      "0          32.0  125098          1   1.0  79.0   4.0   1.0       3.0     3.0   \n",
      "1          32.0  125397          1   2.0  67.0   3.0   4.0       2.0     1.0   \n",
      "2          32.0  125515          1   2.0  74.0   4.0   1.0       2.0     3.0   \n",
      "3          32.0  125558          1   1.0  54.0   2.0   2.0       2.0     1.0   \n",
      "4          32.0  125558          1   2.0  51.0   2.0   2.0       6.0     3.0   \n",
      "\n",
      "   CAT_INAC  ...  DECCFR           IV1  II1  II2  V5 IX_TOT IV12_3 II4_3  \\\n",
      "0       1.0  ...      07  Departamento  3.0  1.0  No    1.0     No    No   \n",
      "1       0.0  ...      00  Departamento  2.0  1.0  No    1.0     No    No   \n",
      "2       1.0  ...      07  Departamento  2.0  1.0  No    1.0     No    No   \n",
      "3       0.0  ...      08  Departamento  4.0  3.0  No    4.0     No    No   \n",
      "4       4.0  ...      08  Departamento  4.0  3.0  No    4.0     No    No   \n",
      "\n",
      "                                                 II9  V1  \n",
      "0  Compartido con otro/s hogar/es de la misma viv...  No  \n",
      "1                            Uso exclusivo del hogar  Sí  \n",
      "2                            Uso exclusivo del hogar  No  \n",
      "3                            Uso exclusivo del hogar  Sí  \n",
      "4                            Uso exclusivo del hogar  Sí  \n",
      "\n",
      "[5 rows x 27 columns]\n"
     ]
    }
   ],
   "source": [
    "# Merge entre df_individual y df_hogar\n",
    "df_final = pd.merge(df_individual, df_hogar, on=['CODUSU', 'NRO_HOGAR'], how='left')\n",
    "\n",
    "# Mostrar las primeras filas del DataFrame resultante\n",
    "print(df_final.head())"
   ]
  },
  {
   "cell_type": "code",
   "execution_count": 11,
   "metadata": {},
   "outputs": [],
   "source": [
    "#Transformaciones a la base final\n",
    "\n",
    "df_final.drop(columns=['AGLOMERADO_y'], inplace=True)  # Eliminar 'aglomerado.y'\n",
    "df_final.rename(columns={'AGLOMERADO_x': 'AGLOMERADO'}, inplace=True)  # Renombrar 'aglomerado.x' a 'aglomerado'"
   ]
  },
  {
   "cell_type": "code",
   "execution_count": 12,
   "metadata": {},
   "outputs": [],
   "source": [
    "#Transformo los valores de la columna IV1\n",
    "\n",
    "IV1_mapping = {\n",
    "    'Departamento': 2,\n",
    "    'Casa': 1,\n",
    "    'Pieza de inquilinato': 3,\n",
    "    'Pieza en hotel/pensión': 4,\n",
    "    'Otro': 5\n",
    "}\n",
    "df_final['IV1'] = df_final['IV1'].map(IV1_mapping)"
   ]
  },
  {
   "cell_type": "code",
   "execution_count": 13,
   "metadata": {},
   "outputs": [],
   "source": [
    "#Transformo los valores de la columna V5\n",
    "\n",
    "V5_mapping = {\n",
    "    'Si': 1,\n",
    "    'No': 2,\n",
    "    'Ns./Nr.': 9\n",
    "}\n",
    "df_final['V5'] = df_final['V5'].map(V5_mapping)"
   ]
  },
  {
   "cell_type": "code",
   "execution_count": 14,
   "metadata": {},
   "outputs": [],
   "source": [
    "#Transformo IV12_3\n",
    "IV12_3_mapping = {\n",
    "    'Si': 1,\n",
    "    'No': 2,\n",
    "    'Ns./Nr.': 0\n",
    "}\n",
    "df_final['IV12_3'] = df_final['IV12_3'].map(IV12_3_mapping)"
   ]
  },
  {
   "cell_type": "code",
   "execution_count": 15,
   "metadata": {},
   "outputs": [],
   "source": [
    "#Transformo II4_3\n",
    "II4_3_mapping = {\n",
    "    'Si': 1,\n",
    "    'No': 2,\n",
    "    'Ns./Nr.': 0\n",
    "}\n",
    "df_final['II4_3'] = df_final['II4_3'].map(II4_3_mapping)"
   ]
  },
  {
   "cell_type": "code",
   "execution_count": 16,
   "metadata": {},
   "outputs": [],
   "source": [
    "#Transformo V1\n",
    "V1_mapping = {\n",
    "    'Si': 1,\n",
    "    'No': 2,\n",
    "    }\n",
    "df_final['V1'] = df_final['V1'].map(V1_mapping)"
   ]
  },
  {
   "cell_type": "code",
   "execution_count": 17,
   "metadata": {},
   "outputs": [
    {
     "name": "stdout",
     "output_type": "stream",
     "text": [
      "   AGLOMERADO  CODUSU  NRO_HOGAR  CH04  CH06  CH07  CH08  NIVEL_ED  ESTADO  \\\n",
      "0        32.0  125098          1   1.0  79.0   4.0   1.0       3.0     3.0   \n",
      "1        32.0  125397          1   2.0  67.0   3.0   4.0       2.0     1.0   \n",
      "2        32.0  125515          1   2.0  74.0   4.0   1.0       2.0     3.0   \n",
      "3        32.0  125558          1   1.0  54.0   2.0   2.0       2.0     1.0   \n",
      "4        32.0  125558          1   2.0  51.0   2.0   2.0       6.0     3.0   \n",
      "\n",
      "   CAT_INAC  ...  DECCFR  IV1  II1  II2   V5  IX_TOT  IV12_3  II4_3  \\\n",
      "0       1.0  ...     7.0  2.0  3.0  1.0  2.0     1.0     2.0    2.0   \n",
      "1       0.0  ...     0.0  2.0  2.0  1.0  2.0     1.0     2.0    2.0   \n",
      "2       1.0  ...     7.0  2.0  2.0  1.0  2.0     1.0     2.0    2.0   \n",
      "3       0.0  ...     8.0  2.0  4.0  3.0  2.0     4.0     2.0    2.0   \n",
      "4       4.0  ...     8.0  2.0  4.0  3.0  2.0     4.0     2.0    2.0   \n",
      "\n",
      "                                                 II9   V1  \n",
      "0  Compartido con otro/s hogar/es de la misma viv...  2.0  \n",
      "1                            Uso exclusivo del hogar  NaN  \n",
      "2                            Uso exclusivo del hogar  2.0  \n",
      "3                            Uso exclusivo del hogar  NaN  \n",
      "4                            Uso exclusivo del hogar  NaN  \n",
      "\n",
      "[5 rows x 26 columns]\n"
     ]
    }
   ],
   "source": [
    "#Transformo variables DECIFR y DECCFR\n",
    "\n",
    "# Reemplaza las cadenas vacías por NaN\n",
    "df_final['DECIFR'] = df_final['DECIFR'].replace('', np.nan)\n",
    "\n",
    "# Luego convierte la columna a float\n",
    "df_final['DECIFR'] = df_final['DECIFR'].astype(float)\n",
    "\n",
    "# Haz lo mismo para la columna 'DECCFR'\n",
    "df_final['DECCFR'] = df_final['DECCFR'].replace('', np.nan)\n",
    "df_final['DECCFR'] = df_final['DECCFR'].astype(float)\n",
    "\n",
    "df_final['DECIFR'] = pd.to_numeric(df_final['DECIFR'], errors='coerce')\n",
    "df_final['DECCFR'] = pd.to_numeric(df_final['DECCFR'], errors='coerce')\n",
    "\n",
    "df_final['DECIFR'] = df_final['DECIFR'].astype(str).str.lstrip('0')\n",
    "df_final['DECCFR'] = df_final['DECCFR'].astype(str).str.lstrip('0')\n",
    "\n",
    "df_final['DECIFR'] = df_final['DECIFR'].astype(float)\n",
    "df_final['DECCFR'] = df_final['DECCFR'].astype(float)\n",
    "\n",
    "\n",
    "print(df_final.head())"
   ]
  },
  {
   "cell_type": "code",
   "execution_count": 18,
   "metadata": {},
   "outputs": [],
   "source": [
    "#EJERCICIO 4 CREO 3 VARIABLES QUE AYUDEN A PREDECIR EL DESEMPLEO\n",
    "\n",
    "# 1- Creo una variable que asigna un 1 si la persona es mayor de 50 años y vive en una casa sin garage\n",
    "df_final['mayor_garage'] = np.where((df_final['CH06'] > 50) & (df_final['II4_3'] == 1), 1, 0)\n",
    "\n",
    "# 2- Creo una variable que asigna un 1 si la persona es mujer y vive en una villa de emergencia\n",
    "df_final['mujer_emergencia'] = np.where((df_final['CH04'] == 2) & (df_final['IV12_3'] == 1), 1, 0)\n",
    "\n",
    "# 3- Creo una variable que asigna un 1 si la persona es mujer y vive en una casa con más de 3 habitantes\n",
    "df_final['mujer_hogar'] = np.where((df_final['CH04'] == 2) & (df_final['IX_TOT'] > 3), 1, 0)"
   ]
  },
  {
   "cell_type": "code",
   "execution_count": 19,
   "metadata": {},
   "outputs": [
    {
     "data": {
      "text/plain": [
       "(1.0, 98.0)"
      ]
     },
     "execution_count": 19,
     "metadata": {},
     "output_type": "execute_result"
    }
   ],
   "source": [
    "#EJERCICIO 5 ESTADÍSTICAS DESCRIPTIVAS VARIABLES SELECCIONADAS\n",
    "\n",
    "#VARIABLE EDAD CH06\n",
    "\n",
    "# Estadísticas descriptivas básicas para la variable CH06\n",
    "df_final['CH06'].describe() \n",
    "\n",
    "# Desviación estándar\n",
    "df_final['CH06'].std()\n",
    "\n",
    "# Mediana\n",
    "df_final['CH06'].median()\n",
    "\n",
    "# Rango (mínimo y máximo)\n",
    "df_final['CH06'].min(), df_final['CH06'].max()"
   ]
  },
  {
   "cell_type": "code",
   "execution_count": 20,
   "metadata": {},
   "outputs": [
    {
     "data": {
      "text/plain": [
       "NIVEL_ED\n",
       "3.0    0.196094\n",
       "4.0    0.174576\n",
       "2.0    0.168386\n",
       "1.0    0.166102\n",
       "6.0    0.110538\n",
       "5.0    0.107590\n",
       "7.0    0.076713\n",
       "Name: proportion, dtype: float64"
      ]
     },
     "execution_count": 20,
     "metadata": {},
     "output_type": "execute_result"
    }
   ],
   "source": [
    "#Variable nivel educativo NIVEL_ED\n",
    "\n",
    "# Frecuencia de cada categoría\n",
    "df_final['NIVEL_ED'].value_counts()\n",
    "\n",
    "# Proporción de cada categoría\n",
    "df_final['NIVEL_ED'].value_counts(normalize=True)"
   ]
  },
  {
   "cell_type": "code",
   "execution_count": 21,
   "metadata": {},
   "outputs": [
    {
     "data": {
      "text/plain": [
       "IV1\n",
       "1.0    0.681613\n",
       "2.0    0.309473\n",
       "3.0    0.003991\n",
       "5.0    0.003060\n",
       "4.0    0.001863\n",
       "Name: proportion, dtype: float64"
      ]
     },
     "execution_count": 21,
     "metadata": {},
     "output_type": "execute_result"
    }
   ],
   "source": [
    "#Variable tipo de hogar IV1\n",
    "\n",
    "# Frecuencia de cada categoría\n",
    "df_final['IV1'].value_counts()\n",
    "\n",
    "# Proporción de cada categoría\n",
    "df_final['IV1'].value_counts(normalize=True)"
   ]
  }
 ],
 "metadata": {
  "anaconda-cloud": {},
  "colab": {
   "name": "TP1 - Parte 1.ipynb",
   "provenance": []
  },
  "kernelspec": {
   "display_name": "Python 3",
   "language": "python",
   "name": "python3"
  },
  "language_info": {
   "codemirror_mode": {
    "name": "ipython",
    "version": 3
   },
   "file_extension": ".py",
   "mimetype": "text/x-python",
   "name": "python",
   "nbconvert_exporter": "python",
   "pygments_lexer": "ipython3",
   "version": "3.12.3"
  }
 },
 "nbformat": 4,
 "nbformat_minor": 4
}
