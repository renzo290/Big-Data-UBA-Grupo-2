{
 "cells": [
  {
   "cell_type": "markdown",
   "metadata": {
    "collapsed": true,
    "id": "Dh8MkXaG-c9Y",
    "jupyter": {
     "outputs_hidden": true
    }
   },
   "source": [
    "# Big Data (UBA) -  2024\n",
    "\n",
    "## Trabajo Práctico 4 "
   ]
  },
  {
   "cell_type": "markdown",
   "metadata": {
    "id": "N9TU2y7E-c9h"
   },
   "source": [
    "### Grupo 2\n",
    "- Jimena Teran \n",
    "- Juan Lynch\n",
    "- Renzo Falciglia"
   ]
  },
  {
   "cell_type": "markdown",
   "metadata": {},
   "source": [
    "### Parte I: Analizando la base"
   ]
  },
  {
   "cell_type": "markdown",
   "metadata": {},
   "source": [
    "#### Ejercicio 2\n",
    "En este ejercicio se cargan los archivos y se unen a la base del TP3."
   ]
  },
  {
   "cell_type": "code",
   "execution_count": 10,
   "metadata": {},
   "outputs": [
    {
     "name": "stdout",
     "output_type": "stream",
     "text": [
      "     CODUSU  nro_hogar realizada    ano4       trimestre    region mas_500  \\\n",
      "0  125051          1.0        Sí  2004.0  1er. Trimestre  Pampeana       S   \n",
      "1  125082          1.0        Sí  2004.0  1er. Trimestre  Pampeana       S   \n",
      "2  125181          1.0        Sí  2004.0  1er. Trimestre  Pampeana       S   \n",
      "3  125283          1.0        Sí  2004.0  1er. Trimestre  Pampeana       S   \n",
      "4  126192          1.0        Sí  2004.0  1er. Trimestre  Pampeana       S   \n",
      "\n",
      "      aglomerado  pondera   iv1  ... gdeccfr pdeccfr adeccfr vii1_1 vii1_2  \\\n",
      "0  Gran La Plata    355.0  Casa  ...      01              01    1.0    0.0   \n",
      "1  Gran La Plata    306.0  Casa  ...      03              02    2.0    0.0   \n",
      "2  Gran La Plata    541.0  Casa  ...      09              09    2.0    0.0   \n",
      "3  Gran La Plata    255.0  Casa  ...      07              07    1.0    2.0   \n",
      "4  Gran La Plata    218.0  Casa  ...      08              08    2.0    0.0   \n",
      "\n",
      "                                 vii2_1 vii2_2 vii2_3 vii2_4 idimph  \n",
      "0                                   3.0    0.0    0.0    0.0  00000  \n",
      "1                                  98.0    0.0    0.0    0.0  10000  \n",
      "2                                   1.0    3.0    0.0    0.0  00000  \n",
      "3                                   3.0    4.0    0.0    0.0  10000  \n",
      "4  Otra persona que no vive en el hogar    0.0    0.0    0.0  10000  \n",
      "\n",
      "[5 rows x 88 columns]\n",
      "                          CODUSU  ANO4  TRIMESTRE  NRO_HOGAR  REALIZADA  \\\n",
      "0  TQRMNORPSHLOLMCDEFNFF00852337  2024          1          1          1   \n",
      "1  TQRMNOPRYHKOKTCDEFNFF00856789  2024          1          1          1   \n",
      "2  TQTMNORRSHKOKTCDEFNFF00856790  2024          1          1          1   \n",
      "3  TQRMNORRSHKOKTCDEFNFF00856791  2024          1          1          1   \n",
      "4  TQRMNOQTVHKLLLCDEFNFF00856792  2024          1          1          1   \n",
      "\n",
      "   REGION MAS_500  AGLOMERADO  PONDERA  IV1  ... GDECCFR  PDECCFR  ADECCFR  \\\n",
      "0      41       N           7      179    1  ...     NaN      5.0        5   \n",
      "1      41       N           7      313    1  ...     NaN     12.0       12   \n",
      "2      41       N           7      286    1  ...     NaN      8.0        9   \n",
      "3      41       N           7      306    1  ...     NaN      5.0        6   \n",
      "4      41       N           7      361    1  ...     NaN      6.0        7   \n",
      "\n",
      "  PONDIH  VII1_1  VII1_2  VII2_1  VII2_2 VII2_3  VII2_4  \n",
      "0    212       1       2      98       0      0       0  \n",
      "1      0       1       0       2       0      0       0  \n",
      "2    401       2       0       1       0      0       0  \n",
      "3    438       2       0       3       0      0       0  \n",
      "4    831       1       0       2       0      0       0  \n",
      "\n",
      "[5 rows x 88 columns]\n"
     ]
    }
   ],
   "source": [
    "#Ejercicio 2\n",
    "\n",
    "#Importamos los paquetes necesarios y cargamos el archivo del 1T de 2004\n",
    "\n",
    "import pandas as pd\n",
    "import pyreadstat\n",
    "import matplotlib.pyplot as plt\n",
    "import numpy as np\n",
    "import pyarrow\n",
    "\n",
    "\n",
    "#Cargamos la base de hogares de 2004\n",
    "archivo_dta = \"EPH_1T2004/Hogar_t104.dta\"\n",
    "df_2004 = pd.read_stata(archivo_dta)\n",
    "print(df_2004.head())\n",
    "\n",
    "#Cargamos la base de hogares de 2024\n",
    "archivo_txt = \"EPH_1T2024/usu_hogar_t124.txt\"\n",
    "df_2024 = pd.read_csv(archivo_txt,  sep=\";\")\n",
    "print(df_2024.head())\n"
   ]
  },
  {
   "cell_type": "code",
   "execution_count": 11,
   "metadata": {},
   "outputs": [
    {
     "name": "stdout",
     "output_type": "stream",
     "text": [
      "Index(['CODUSU', 'NRO_HOGAR', 'REALIZADA', 'ANO4', 'TRIMESTRE', 'REGION',\n",
      "       'MAS_500', 'AGLOMERADO', 'PONDERA', 'IV1', 'IV1_ESP', 'IV2', 'IV3',\n",
      "       'IV3_ESP', 'IV4', 'IV5', 'IV6', 'IV7', 'IV7_ESP', 'IV8', 'IV9', 'IV10',\n",
      "       'IV11', 'IV12_1', 'IV12_2', 'IV12_3', 'II1', 'II2', 'II3', 'II3_1',\n",
      "       'II4_1', 'II4_2', 'II4_3', 'II5', 'II5_1', 'II6', 'II6_1', 'II7',\n",
      "       'II7_ESP', 'II8', 'II8_ESP', 'II9', 'V1', 'V2', 'V21', 'V22', 'V3',\n",
      "       'V4', 'V5', 'V6', 'V7', 'V8', 'V9', 'V10', 'V11', 'V12', 'V13', 'V14',\n",
      "       'V15', 'V16', 'V17', 'V18', 'V19_A', 'V19_B', 'IX_TOT', 'IX_MEN10',\n",
      "       'IX_MAYEQ10', 'ITF', 'DECIFR', 'IDECIFR', 'RDECIFR', 'GDECIFR',\n",
      "       'PDECIFR', 'ADECIFR', 'IPCF', 'DECCFR', 'IDECCFR', 'RDECCFR', 'GDECCFR',\n",
      "       'PDECCFR', 'ADECCFR', 'VII1_1', 'VII1_2', 'VII2_1', 'VII2_2', 'VII2_3',\n",
      "       'VII2_4', 'IDIMPH'],\n",
      "      dtype='object')\n",
      "Index(['CODUSU', 'ANO4', 'TRIMESTRE', 'NRO_HOGAR', 'REALIZADA', 'REGION',\n",
      "       'MAS_500', 'AGLOMERADO', 'PONDERA', 'IV1', 'IV1_ESP', 'IV2', 'IV3',\n",
      "       'IV3_ESP', 'IV4', 'IV5', 'IV6', 'IV7', 'IV7_ESP', 'IV8', 'IV9', 'IV10',\n",
      "       'IV11', 'IV12_1', 'IV12_2', 'IV12_3', 'II1', 'II2', 'II3', 'II3_1',\n",
      "       'II4_1', 'II4_2', 'II4_3', 'II5', 'II5_1', 'II6', 'II6_1', 'II7',\n",
      "       'II7_ESP', 'II8', 'II8_ESP', 'II9', 'V1', 'V2', 'V21', 'V22', 'V3',\n",
      "       'V4', 'V5', 'V6', 'V7', 'V8', 'V9', 'V10', 'V11', 'V12', 'V13', 'V14',\n",
      "       'V15', 'V16', 'V17', 'V18', 'V19_A', 'V19_B', 'IX_TOT', 'IX_MEN10',\n",
      "       'IX_MAYEQ10', 'ITF', 'DECIFR', 'IDECIFR', 'RDECIFR', 'GDECIFR',\n",
      "       'PDECIFR', 'ADECIFR', 'IPCF', 'DECCFR', 'IDECCFR', 'RDECCFR', 'GDECCFR',\n",
      "       'PDECCFR', 'ADECCFR', 'PONDIH', 'VII1_1', 'VII1_2', 'VII2_1', 'VII2_2',\n",
      "       'VII2_3', 'VII2_4'],\n",
      "      dtype='object')\n"
     ]
    }
   ],
   "source": [
    "#Cambio los nombres\n",
    "df_2004.columns = df_2004.columns.str.upper()\n",
    "print(df_2004.columns)\n",
    "print(df_2024.columns)"
   ]
  },
  {
   "cell_type": "code",
   "execution_count": 12,
   "metadata": {},
   "outputs": [],
   "source": [
    "#Filtro los aglomerados que no corresponden a CABA o a partidos del Gran Buenos Aires\n",
    "\n",
    "df_2004 = df_2004[df_2004[\"AGLOMERADO\"].isin([\"Ciudad de Buenos Aires\", \"Partidos del GBA\"])]\n",
    "df_2024 = df_2024[df_2024[\"AGLOMERADO\"].isin([32, 33])]"
   ]
  },
  {
   "cell_type": "code",
   "execution_count": 13,
   "metadata": {},
   "outputs": [],
   "source": [
    "#Filtro por las variables de interés para predecir el desempleo\n",
    "\n",
    "variables_filtrar = [\"CODUSU\", \"NRO_HOGAR\", \"AGLOMERADO\", \"ITF\", \"IPCF\", \"DECIFR\", \"DECCFR\", \"IV1\", \"II1\", \"II2\", \"V5\", \"IX_TOT\"]\n",
    "\n",
    "#Filtramos en la base de 2004\n",
    "df_2004 = df_2004[variables_filtrar]\n",
    "\n",
    "#Filtramos en la base de 2024\n",
    "df_2024 = df_2024[variables_filtrar]"
   ]
  },
  {
   "cell_type": "code",
   "execution_count": 14,
   "metadata": {},
   "outputs": [
    {
     "name": "stdout",
     "output_type": "stream",
     "text": [
      "       AGLOMERADO                         CODUSU  NRO_HOGAR  CH04  CH06  CH07  \\\n",
      "0            32.0                         125098        1.0   1.0  79.0   4.0   \n",
      "1            32.0                         125397        1.0   2.0  67.0   3.0   \n",
      "2            32.0                         125515        1.0   2.0  74.0   4.0   \n",
      "3            32.0                         125558        1.0   1.0  54.0   2.0   \n",
      "4            32.0                         125558        1.0   2.0  51.0   2.0   \n",
      "...           ...                            ...        ...   ...   ...   ...   \n",
      "13565        33.0  TQRMNOPUQHKMKNCDEIJAH00861661        1.0   2.0  43.0   3.0   \n",
      "13566        33.0  TQRMNOPUQHKMKNCDEIJAH00861661        1.0   1.0  21.0   5.0   \n",
      "13567        33.0  TQRMNOPUQHKMKNCDEIJAH00861661        1.0   1.0  20.0   5.0   \n",
      "13568        33.0  TQRMNOPUQHKMKNCDEIJAH00861661        1.0   1.0  11.0   5.0   \n",
      "13569        33.0  TQRMNOPUQHKMKNCDEIJAH00861661        1.0   2.0  24.0   5.0   \n",
      "\n",
      "       CH08  NIVEL_ED  ESTADO  CAT_INAC   IPCF       P21   ORIGEN  \n",
      "0       1.0       3.0     3.0       1.0  368.0       0.0  T1_2004  \n",
      "1       4.0       2.0     1.0       0.0    0.0       0.0  T1_2004  \n",
      "2       1.0       2.0     3.0       1.0  440.0       0.0  T1_2004  \n",
      "3       2.0       2.0     1.0       0.0  532.5    2000.0  T1_2004  \n",
      "4       2.0       6.0     3.0       4.0  532.5       0.0  T1_2004  \n",
      "...     ...       ...     ...       ...    ...       ...      ...  \n",
      "13565   1.0       3.0     1.0       0.0    0.0  250000.0  T1_2024  \n",
      "13566   1.0       3.0     0.0       0.0    0.0       0.0  T1_2024  \n",
      "13567   1.0       3.0     0.0       0.0    0.0       0.0  T1_2024  \n",
      "13568   1.0       3.0     0.0       0.0    0.0       0.0  T1_2024  \n",
      "13569   1.0       5.0     0.0       0.0    0.0       0.0  T1_2024  \n",
      "\n",
      "[13570 rows x 13 columns]\n"
     ]
    }
   ],
   "source": [
    "#Cargamos la bbdd del TP3, que la generé con el script \"TP4_UBA_bbdd_TP3.ipynb\"\n",
    "\n",
    "df_individual = pd.read_parquet('datos.individual')\n",
    "print(df_individual)"
   ]
  },
  {
   "cell_type": "code",
   "execution_count": 15,
   "metadata": {},
   "outputs": [
    {
     "name": "stdout",
     "output_type": "stream",
     "text": [
      "       AGLOMERADO                         CODUSU  NRO_HOGAR  CH04  CH06  CH07  \\\n",
      "0            32.0                         125098        1.0   1.0  79.0   4.0   \n",
      "1            32.0                         125397        1.0   2.0  67.0   3.0   \n",
      "2            32.0                         125515        1.0   2.0  74.0   4.0   \n",
      "3            32.0                         125558        1.0   1.0  54.0   2.0   \n",
      "4            32.0                         125558        1.0   2.0  51.0   2.0   \n",
      "...           ...                            ...        ...   ...   ...   ...   \n",
      "13565        33.0  TQRMNOPUQHKMKNCDEIJAH00861661        1.0   2.0  43.0   3.0   \n",
      "13566        33.0  TQRMNOPUQHKMKNCDEIJAH00861661        1.0   1.0  21.0   5.0   \n",
      "13567        33.0  TQRMNOPUQHKMKNCDEIJAH00861661        1.0   1.0  20.0   5.0   \n",
      "13568        33.0  TQRMNOPUQHKMKNCDEIJAH00861661        1.0   1.0  11.0   5.0   \n",
      "13569        33.0  TQRMNOPUQHKMKNCDEIJAH00861661        1.0   2.0  24.0   5.0   \n",
      "\n",
      "       CH08  NIVEL_ED  ESTADO  CAT_INAC   IPCF       P21   ORIGEN  \n",
      "0       1.0       3.0     3.0       1.0  368.0       0.0  T1_2004  \n",
      "1       4.0       2.0     1.0       0.0    0.0       0.0  T1_2004  \n",
      "2       1.0       2.0     3.0       1.0  440.0       0.0  T1_2004  \n",
      "3       2.0       2.0     1.0       0.0  532.5    2000.0  T1_2004  \n",
      "4       2.0       6.0     3.0       4.0  532.5       0.0  T1_2004  \n",
      "...     ...       ...     ...       ...    ...       ...      ...  \n",
      "13565   1.0       3.0     1.0       0.0    0.0  250000.0  T1_2024  \n",
      "13566   1.0       3.0     0.0       0.0    0.0       0.0  T1_2024  \n",
      "13567   1.0       3.0     0.0       0.0    0.0       0.0  T1_2024  \n",
      "13568   1.0       3.0     0.0       0.0    0.0       0.0  T1_2024  \n",
      "13569   1.0       5.0     0.0       0.0    0.0       0.0  T1_2024  \n",
      "\n",
      "[13570 rows x 13 columns]\n"
     ]
    }
   ],
   "source": [
    "print(df_individual)"
   ]
  },
  {
   "cell_type": "code",
   "execution_count": 16,
   "metadata": {},
   "outputs": [
    {
     "name": "stdout",
     "output_type": "stream",
     "text": [
      "   AGLOMERADO_x  CODUSU  NRO_HOGAR  CH04  CH06  CH07  CH08  NIVEL_ED  ESTADO  \\\n",
      "0          32.0  125098        1.0   1.0  79.0   4.0   1.0       3.0     3.0   \n",
      "1          32.0  125397        1.0   2.0  67.0   3.0   4.0       2.0     1.0   \n",
      "2          32.0  125515        1.0   2.0  74.0   4.0   1.0       2.0     3.0   \n",
      "3          32.0  125558        1.0   1.0  54.0   2.0   2.0       2.0     1.0   \n",
      "4          32.0  125558        1.0   2.0  51.0   2.0   2.0       6.0     3.0   \n",
      "\n",
      "   CAT_INAC  ...  AGLOMERADO  ITF_y IPCF DECIFR_y  DECCFR_y  IV1_y II1_y  \\\n",
      "0       1.0  ...         NaN    NaN  NaN      NaN       NaN    NaN   NaN   \n",
      "1       0.0  ...         NaN    NaN  NaN      NaN       NaN    NaN   NaN   \n",
      "2       1.0  ...         NaN    NaN  NaN      NaN       NaN    NaN   NaN   \n",
      "3       0.0  ...         NaN    NaN  NaN      NaN       NaN    NaN   NaN   \n",
      "4       4.0  ...         NaN    NaN  NaN      NaN       NaN    NaN   NaN   \n",
      "\n",
      "  II2_y V5_y IX_TOT_y  \n",
      "0   NaN  NaN      NaN  \n",
      "1   NaN  NaN      NaN  \n",
      "2   NaN  NaN      NaN  \n",
      "3   NaN  NaN      NaN  \n",
      "4   NaN  NaN      NaN  \n",
      "\n",
      "[5 rows x 33 columns]\n"
     ]
    }
   ],
   "source": [
    "#Se hace la unión de la base individual con las bases de hogares\n",
    "\n",
    "# Realizar el merge entre df_individual y df_2004\n",
    "df_merge_2004 = pd.merge(df_individual, df_2004, on=['CODUSU', 'NRO_HOGAR'], how='left')\n",
    "\n",
    "# Realizar el merge entre el resultado anterior y df_2024\n",
    "df_final = pd.merge(df_merge_2004, df_2024, on=['CODUSU', 'NRO_HOGAR'], how='left')\n",
    "\n",
    "# Mostrar las primeras filas del DataFrame resultante\n",
    "print(df_final.head())\n"
   ]
  }
 ],
 "metadata": {
  "anaconda-cloud": {},
  "colab": {
   "name": "TP1 - Parte 1.ipynb",
   "provenance": []
  },
  "kernelspec": {
   "display_name": "Python 3",
   "language": "python",
   "name": "python3"
  },
  "language_info": {
   "codemirror_mode": {
    "name": "ipython",
    "version": 3
   },
   "file_extension": ".py",
   "mimetype": "text/x-python",
   "name": "python",
   "nbconvert_exporter": "python",
   "pygments_lexer": "ipython3",
   "version": "3.12.3"
  }
 },
 "nbformat": 4,
 "nbformat_minor": 4
}
