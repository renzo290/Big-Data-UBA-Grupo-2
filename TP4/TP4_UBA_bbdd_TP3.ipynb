{
 "cells": [
  {
   "cell_type": "markdown",
   "metadata": {
    "collapsed": true,
    "id": "Dh8MkXaG-c9Y",
    "jupyter": {
     "outputs_hidden": true
    }
   },
   "source": [
    "# Big Data (UBA) -  2024\n",
    "\n",
    "## Trabajo Práctico 4 "
   ]
  },
  {
   "cell_type": "markdown",
   "metadata": {
    "id": "N9TU2y7E-c9h"
   },
   "source": [
    "### Grupo 2\n",
    "- Jimena Teran \n",
    "- Juan Lynch\n",
    "- Renzo Falciglia"
   ]
  },
  {
   "cell_type": "markdown",
   "metadata": {},
   "source": [
    "### Armo la bbdd del TP3"
   ]
  },
  {
   "cell_type": "code",
   "execution_count": 3,
   "metadata": {},
   "outputs": [
    {
     "name": "stderr",
     "output_type": "stream",
     "text": [
      "C:\\Users\\renzo\\AppData\\Local\\Temp\\ipykernel_39208\\1133262670.py:16: DtypeWarning: Columns (102,105) have mixed types. Specify dtype option on import or set low_memory=False.\n",
      "  df_2024 = pd.read_csv(ruta_txt, delimiter=\";\")\n"
     ]
    },
    {
     "name": "stdout",
     "output_type": "stream",
     "text": [
      "       CODUSU  nro_hogar  componente  h15    ano4  trimestre  region mas_500  \\\n",
      "0      125098        1.0         1.0  1.0  2004.0        1.0     1.0       S   \n",
      "1      125397        1.0         1.0  1.0  2004.0        1.0     1.0       S   \n",
      "2      125515        1.0         1.0  1.0  2004.0        1.0     1.0       S   \n",
      "3      125558        1.0         1.0  1.0  2004.0        1.0     1.0       S   \n",
      "4      125558        1.0         2.0  1.0  2004.0        1.0     1.0       S   \n",
      "...       ...        ...         ...  ...     ...        ...     ...     ...   \n",
      "45284  285733        1.0         1.0  1.0  2004.0        1.0    44.0       N   \n",
      "45285  285733        1.0         2.0  1.0  2004.0        1.0    44.0       N   \n",
      "45286  285733        1.0         3.0  1.0  2004.0        1.0    44.0       N   \n",
      "45287  285733        1.0         4.0  0.0  2004.0        1.0    44.0       N   \n",
      "45288  285733        1.0         5.0  0.0  2004.0        1.0    44.0       N   \n",
      "\n",
      "       aglomerado  pondera  ...  deccfr  ideccfr  rdeccfr  gdeccfr  pdeccfr  \\\n",
      "0            32.0   1299.0  ...      07                06       06            \n",
      "1            32.0   2018.0  ...      00                00       00            \n",
      "2            32.0   1486.0  ...      07                07       07            \n",
      "3            32.0   1674.0  ...      08                08       08            \n",
      "4            32.0   1674.0  ...      08                08       08            \n",
      "...           ...      ...  ...     ...      ...      ...      ...      ...   \n",
      "45284        31.0    123.0  ...      09       09       08                09   \n",
      "45285        31.0    123.0  ...      09       09       08                09   \n",
      "45286        31.0    123.0  ...      09       09       08                09   \n",
      "45287        31.0    123.0  ...      09       09       08                09   \n",
      "45288        31.0    123.0  ...      09       09       08                09   \n",
      "\n",
      "       adeccfr  pj1_1  pj2_1  pj3_1  idimpp  \n",
      "0           04    0.0    0.0    0.0   00000  \n",
      "1           00    0.0    0.0    0.0   00000  \n",
      "2           05    0.0    0.0    0.0   00020  \n",
      "3           06    0.0    0.0    0.0   00000  \n",
      "4           06    0.0    0.0    0.0   00000  \n",
      "...        ...    ...    ...    ...     ...  \n",
      "45284       07    0.0    0.0    0.0   00000  \n",
      "45285       07    0.0    0.0    0.0   00000  \n",
      "45286       07    0.0    0.0    0.0   00000  \n",
      "45287       07    0.0    0.0    0.0   00000  \n",
      "45288       07    0.0    0.0    0.0   00000  \n",
      "\n",
      "[45289 rows x 176 columns]\n",
      "                              CODUSU  ANO4  TRIMESTRE  NRO_HOGAR  COMPONENTE  \\\n",
      "0      TQRMNOPUTHLMKQCDEGGFB00852588  2024          1          1           3   \n",
      "1      TQRMNOPUTHLMKQCDEGGFB00852588  2024          1          1           4   \n",
      "2      TQRMNOPUTHLMKQCDEGGFB00852588  2024          1          1           5   \n",
      "3      TQRMNOPPWHLLKRCDEGGFB00852574  2024          1          1           1   \n",
      "4      TQRMNOPPWHLLKRCDEGGFB00852574  2024          1          1           2   \n",
      "...                              ...   ...        ...        ...         ...   \n",
      "46045  TQRMNOPUQHKMKNCDEIJAH00861661  2024          1          1           1   \n",
      "46046  TQRMNOPUQHKMKNCDEIJAH00861661  2024          1          1           2   \n",
      "46047  TQRMNOPUQHKMKNCDEIJAH00861661  2024          1          1           3   \n",
      "46048  TQRMNOPUQHKMKNCDEIJAH00861661  2024          1          1           4   \n",
      "46049  TQRMNOPUQHKMKNCDEIJAH00861661  2024          1          1           5   \n",
      "\n",
      "       H15  REGION MAS_500  AGLOMERADO  PONDERA  ...  PDECIFR  ADECIFR  \\\n",
      "0        1      42       S          10      439  ...      NaN       12   \n",
      "1        1      42       S          10      439  ...      NaN       12   \n",
      "2        0      42       S          10      439  ...      NaN       12   \n",
      "3        1      42       S          10      675  ...      NaN        8   \n",
      "4        1      42       S          10      675  ...      NaN        8   \n",
      "...    ...     ...     ...         ...      ...  ...      ...      ...   \n",
      "46045    1       1       S          33     3410  ...      NaN       12   \n",
      "46046    2       1       S          33     3410  ...      NaN       12   \n",
      "46047    2       1       S          33     3410  ...      NaN       12   \n",
      "46048    2       1       S          33     3410  ...      NaN       12   \n",
      "46049    2       1       S          33     3410  ...      NaN       12   \n",
      "\n",
      "         IPCF  DECCFR  IDECCFR  RDECCFR  GDECCFR  PDECCFR  ADECCFR  PONDIH  \n",
      "0           0      12     12.0       12     12.0      NaN       12       0  \n",
      "1           0      12     12.0       12     12.0      NaN       12       0  \n",
      "2           0      12     12.0       12     12.0      NaN       12       0  \n",
      "3      212500       6      6.0        6      6.0      NaN        6    1610  \n",
      "4      212500       6      6.0        6      6.0      NaN        6    1610  \n",
      "...       ...     ...      ...      ...      ...      ...      ...     ...  \n",
      "46045       0      12      NaN       12     12.0      NaN       12       0  \n",
      "46046       0      12      NaN       12     12.0      NaN       12       0  \n",
      "46047       0      12      NaN       12     12.0      NaN       12       0  \n",
      "46048       0      12      NaN       12     12.0      NaN       12       0  \n",
      "46049       0      12      NaN       12     12.0      NaN       12       0  \n",
      "\n",
      "[46050 rows x 177 columns]\n"
     ]
    }
   ],
   "source": [
    "#Importamos los paquetes necesarios y cargamos el archivo del 1T de 2004\n",
    "\n",
    "import pandas as pd\n",
    "import pyreadstat\n",
    "import matplotlib.pyplot as plt\n",
    "import numpy as np\n",
    "import pyarrow\n",
    "\n",
    "\n",
    "#Cargamos archivo .sav\n",
    "ruta_sav = \"../TP3/EPH_1T2004/Individual_t104.sav\"\n",
    "df_2004, meta_2004 = pyreadstat.read_sav(ruta_sav)\n",
    "\n",
    "#Cargamos el archivo del 1T 2024\n",
    "ruta_txt = \"../TP3/EPH_1T2024/usu_individual_T124.txt\"\n",
    "df_2024 = pd.read_csv(ruta_txt, delimiter=\";\") \n",
    "\n",
    "print(df_2004)\n",
    "print(df_2024)"
   ]
  },
  {
   "cell_type": "code",
   "execution_count": 4,
   "metadata": {},
   "outputs": [
    {
     "name": "stdout",
     "output_type": "stream",
     "text": [
      "Index(['CODUSU', 'NRO_HOGAR', 'COMPONENTE', 'H15', 'ANO4', 'TRIMESTRE',\n",
      "       'REGION', 'MAS_500', 'AGLOMERADO', 'PONDERA',\n",
      "       ...\n",
      "       'DECCFR', 'IDECCFR', 'RDECCFR', 'GDECCFR', 'PDECCFR', 'ADECCFR',\n",
      "       'PJ1_1', 'PJ2_1', 'PJ3_1', 'IDIMPP'],\n",
      "      dtype='object', length=176)\n"
     ]
    }
   ],
   "source": [
    "#Primero convierto los nombres del df de 2004 a mayúscula así están igual en ambas bases\n",
    "\n",
    "#Cambio los nombres\n",
    "df_2004.columns = df_2004.columns.str.upper()\n",
    "print(df_2004.columns)"
   ]
  },
  {
   "cell_type": "code",
   "execution_count": 5,
   "metadata": {},
   "outputs": [
    {
     "name": "stdout",
     "output_type": "stream",
     "text": [
      "   AGLOMERADO  CODUSU  NRO_HOGAR  CH04  CH06  CH07  CH08  NIVEL_ED  ESTADO  \\\n",
      "0        32.0  125098        1.0   1.0  79.0   4.0   1.0       3.0     3.0   \n",
      "1        32.0  125397        1.0   2.0  67.0   3.0   4.0       2.0     1.0   \n",
      "2        32.0  125515        1.0   2.0  74.0   4.0   1.0       2.0     3.0   \n",
      "3        32.0  125558        1.0   1.0  54.0   2.0   2.0       2.0     1.0   \n",
      "4        32.0  125558        1.0   2.0  51.0   2.0   2.0       6.0     3.0   \n",
      "\n",
      "   CAT_INAC   IPCF     P21   ORIGEN  \n",
      "0       1.0  368.0     0.0  T1_2004  \n",
      "1       0.0    0.0     0.0  T1_2004  \n",
      "2       1.0  440.0     0.0  T1_2004  \n",
      "3       0.0  532.5  2000.0  T1_2004  \n",
      "4       4.0  532.5     0.0  T1_2004  \n"
     ]
    },
    {
     "name": "stderr",
     "output_type": "stream",
     "text": [
      "C:\\Users\\renzo\\AppData\\Local\\Temp\\ipykernel_39208\\2165366522.py:17: SettingWithCopyWarning: \n",
      "A value is trying to be set on a copy of a slice from a DataFrame.\n",
      "Try using .loc[row_indexer,col_indexer] = value instead\n",
      "\n",
      "See the caveats in the documentation: https://pandas.pydata.org/pandas-docs/stable/user_guide/indexing.html#returning-a-view-versus-a-copy\n",
      "  df_2004_filtrado[\"ORIGEN\"] = \"T1_2004\"\n"
     ]
    }
   ],
   "source": [
    "#Definimos las variables que necesitaremos de ambas bases para poder hacer la unión\n",
    "\n",
    "variables_filtrar = [\"AGLOMERADO\", \"CODUSU\", \"NRO_HOGAR\", \"CH04\", \"CH06\", \"CH07\", \"CH08\", \"NIVEL_ED\", \"ESTADO\", \"CAT_INAC\", \"IPCF\", \"P21\"]\n",
    "\n",
    "#Filtramos en la base de 2004\n",
    "df_2004_filtrado = df_2004[variables_filtrar]\n",
    "\n",
    "#Filtramos en la base de 2024\n",
    "df_2024_filtrado = df_2024[variables_filtrar]\n",
    "\n",
    "#Unión de los df\n",
    "\n",
    "#Ordenamos las columnas por si están en diferente orden\n",
    "df_2024_filtrado = df_2024_filtrado[df_2004_filtrado.columns]\n",
    "\n",
    "#Agregamos una columna de origen a cada df\n",
    "df_2004_filtrado[\"ORIGEN\"] = \"T1_2004\"\n",
    "df_2024_filtrado[\"ORIGEN\"] = \"T1_2024\"\n",
    "\n",
    "#Unimos verticalmente y verificamos los resultados\n",
    "df_union = pd.concat([df_2004_filtrado, df_2024_filtrado], ignore_index=True)\n",
    "\n",
    "print(df_union.head())"
   ]
  },
  {
   "cell_type": "code",
   "execution_count": 6,
   "metadata": {},
   "outputs": [
    {
     "name": "stdout",
     "output_type": "stream",
     "text": [
      "   AGLOMERADO  CODUSU  NRO_HOGAR  CH04  CH06  CH07  CH08  NIVEL_ED  ESTADO  \\\n",
      "0        32.0  125098        1.0   1.0  79.0   4.0   1.0       3.0     3.0   \n",
      "1        32.0  125397        1.0   2.0  67.0   3.0   4.0       2.0     1.0   \n",
      "2        32.0  125515        1.0   2.0  74.0   4.0   1.0       2.0     3.0   \n",
      "3        32.0  125558        1.0   1.0  54.0   2.0   2.0       2.0     1.0   \n",
      "4        32.0  125558        1.0   2.0  51.0   2.0   2.0       6.0     3.0   \n",
      "\n",
      "   CAT_INAC   IPCF     P21   ORIGEN  \n",
      "0       1.0  368.0     0.0  T1_2004  \n",
      "1       0.0    0.0     0.0  T1_2004  \n",
      "2       1.0  440.0     0.0  T1_2004  \n",
      "3       0.0  532.5  2000.0  T1_2004  \n",
      "4       4.0  532.5     0.0  T1_2004  \n"
     ]
    }
   ],
   "source": [
    "#Filtro los aglomerados que no corresponden a CABA o a partidos del Gran Buenos Aires\n",
    "\n",
    "df_union_filtrado = df_union[df_union[\"AGLOMERADO\"].isin([32, 33])]\n",
    "print(df_union_filtrado.head())\n"
   ]
  },
  {
   "cell_type": "code",
   "execution_count": 7,
   "metadata": {},
   "outputs": [],
   "source": [
    "#Elimino las observaciones que tienen negativo en ingresos y en edad\n",
    "\n",
    "df_union_filtrado = df_union_filtrado[(df_union_filtrado['CH06'] >= 0) & (df_union_filtrado['P21'] >= 0)]\n",
    "\n",
    "# Convierto las columnas de IPCF y P21 en numéricas, forzando los errores a NaN\n",
    "df_union_filtrado['IPCF'] = pd.to_numeric(df_union_filtrado['IPCF'], errors='coerce')\n",
    "df_union_filtrado['P21'] = pd.to_numeric(df_union_filtrado['P21'], errors='coerce')"
   ]
  },
  {
   "cell_type": "code",
   "execution_count": 8,
   "metadata": {},
   "outputs": [],
   "source": [
    "#Guardo la bbdd en un formato más práctico para usar en el TP4\n",
    "\n",
    "# Guardar como Parquet\n",
    "df_union_filtrado.to_parquet('datos.individual', index=False)"
   ]
  }
 ],
 "metadata": {
  "anaconda-cloud": {},
  "colab": {
   "name": "TP1 - Parte 1.ipynb",
   "provenance": []
  },
  "kernelspec": {
   "display_name": "Python 3",
   "language": "python",
   "name": "python3"
  },
  "language_info": {
   "codemirror_mode": {
    "name": "ipython",
    "version": 3
   },
   "file_extension": ".py",
   "mimetype": "text/x-python",
   "name": "python",
   "nbconvert_exporter": "python",
   "pygments_lexer": "ipython3",
   "version": "3.12.3"
  }
 },
 "nbformat": 4,
 "nbformat_minor": 4
}
